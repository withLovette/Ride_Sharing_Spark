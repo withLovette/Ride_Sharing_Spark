{
 "cells": [
  {
   "cell_type": "markdown",
   "id": "8d4288df-d96f-4949-94a1-a144dfa180e8",
   "metadata": {},
   "source": [
    "### Project 1\n",
    "#### Capstone Project: Batch Processing Pipeline for Ride-Sharing Analytics"
   ]
  },
  {
   "cell_type": "markdown",
   "id": "534ebc1e-6e57-4a77-9131-6b78bc4bda1d",
   "metadata": {},
   "source": [
    "#### Objective: \n",
    "###### To build an end-to-end batch processing pipeline that ingests, transforms, and \n",
    "###### analyzes ride-sharing data using Apache Spark, Python, and SQL. The project will \n",
    "###### demonstrate the student’s ability to process large datasets efficiently."
   ]
  },
  {
   "cell_type": "markdown",
   "id": "5cb2e9ce-4e1e-4161-9565-f6dccfd3b19a",
   "metadata": {},
   "source": [
    "#### 1. Data Ingestion \n",
    "\n",
    "###### • Download or generate a sample dataset of historical ride-sharing data (e.g., rides.csv). \n",
    "###### • Use Spark to load data into a DataFrame. "
   ]
  },
  {
   "cell_type": "code",
   "execution_count": 162,
   "id": "a5ac8966-6969-402f-ba63-42a7dce26f0b",
   "metadata": {},
   "outputs": [],
   "source": [
    "from pyspark.sql import SparkSession\n",
    "\n",
    "spark = SparkSession.builder.appName(\"CapstoneProject\").getOrCreate()"
   ]
  },
  {
   "cell_type": "code",
   "execution_count": 163,
   "id": "a794809d-eb5f-4407-b7e3-3dd0b710b064",
   "metadata": {},
   "outputs": [],
   "source": [
    "from pyspark.sql.types import  StructType, StructField, StringType, ArrayType, IntegerType, FloatType, DateType, BooleanType\n",
    "\n",
    "ride_df = spark.read.format(\"csv\"). option(\"header\", \"true\") \\\n",
    ".load(\"C:/Users/Lovette/sparktests/sparkdf/Python_Practise/canada-rides.csv\")\n",
    "\n",
    "ride_schema = (StructType([\n",
    "    StructField(\"ride_id\", StringType(), True),\n",
    "    StructField(\"driver_id\", StringType(), True),\n",
    "    StructField(\"passenger\", StringType(), True),\n",
    "    StructField(\"city\", StringType(), True),\n",
    "    StructField(\"pickup_time\", StringType(), True),\n",
    "    StructField(\"dropoff_time\", StringType(), True),\n",
    "    StructField(\"distance_km\", StringType(), True),\n",
    "    StructField(\"fare_amount\", StringType(), True)\n",
    "]))"
   ]
  },
  {
   "cell_type": "code",
   "execution_count": 164,
   "id": "ab5ed72b-e29c-404f-929a-313651bc1db9",
   "metadata": {},
   "outputs": [
    {
     "name": "stdout",
     "output_type": "stream",
     "text": [
      "+--------+---------+------------+---------+-------------------+-------------------+-----------+-----------+\n",
      "| ride_id|driver_id|passenger_id|     city|        pickup_time|       dropoff_time|distance_km|fare_amount|\n",
      "+--------+---------+------------+---------+-------------------+-------------------+-----------+-----------+\n",
      "|c316e38f| a7fd7d33|    b45c40aa|   Ottawa|2024-07-24 01:54:00|2024-07-24 02:49:00|      27.92|      69.38|\n",
      "|c1949764| aa9446f3|    7eb56af9| Montreal|2024-05-24 02:22:00|2024-05-24 02:35:00|       8.99|      19.95|\n",
      "|3f500b60| 3e83bc70|    da010c6c| Montreal|2024-12-06 21:51:00|2024-12-06 22:14:00|      19.49|       31.7|\n",
      "|70ea96dd| 4cceab04|    8fa1dfd0|  Halifax|2024-05-27 03:47:00|2024-05-27 04:26:00|       9.04|      25.75|\n",
      "|474ef781| c5385398|    a7d49d3e| Edmonton|2024-04-10 11:35:00|2024-04-10 12:02:00|      19.97|      51.45|\n",
      "|3bad8ed3| 5827120c|    2288a9bf|   Ottawa|2024-09-22 09:59:00|2024-09-22 10:25:00|      12.21|      26.62|\n",
      "|68c29089| 73a943b2|    0caaa19a| Winnipeg|2024-04-12 14:16:00|2024-04-12 14:31:00|      15.48|      36.78|\n",
      "|95b94876| 002b9b24|    09b1a123| Edmonton|2024-08-20 14:31:00|2024-08-20 15:28:00|      26.91|      91.74|\n",
      "|1aec6419| 97b1b68b|    3b2e03e5|   Ottawa|2024-10-21 13:00:00|2024-10-21 13:33:00|      11.89|      24.25|\n",
      "|08e643b3| 6131fd26|    9c91fcb6|  Toronto|2024-07-20 14:08:00|2024-07-20 14:17:00|       3.51|       5.31|\n",
      "|2e95377d| 2e8fad85|    188dd6ff|  Calgary|2024-08-05 16:58:00|2024-08-05 17:31:00|      25.04|      61.65|\n",
      "|970d4aa8| e331f871|    f759c446|  Halifax|2024-10-05 22:17:00|2024-10-05 22:28:00|      -1.49|      -5.01|\n",
      "|e4ef7306| 5f35135c|    7ec9c9d4| Edmonton|2024-06-02 08:45:00|2024-06-02 09:05:00|       2.11|       4.22|\n",
      "|f2a3389c| 621114e3|    b533694a| Edmonton|2024-08-22 03:42:00|2024-08-22 03:55:00|       2.51|       7.54|\n",
      "|996db9c5| a916d5b6|    14bf9c2d|  Toronto|2024-07-16 15:47:00|2024-07-16 16:22:00|      16.22|      25.48|\n",
      "|646a678a| 5978e358|    c7ed5f72| Winnipeg|2024-09-01 10:06:00|2024-09-01 10:18:00|       0.73|       2.41|\n",
      "|cd26d117| f4baba8e|    25adf562| Edmonton|2024-01-16 08:12:00|2024-01-16 08:30:00|      -1.61|      -5.38|\n",
      "|e6ec43e5| d65421ca|    99ba568d|  Toronto|2024-02-09 00:36:00|2024-02-09 01:24:00|      19.41|      66.03|\n",
      "|42454d74| c36ec30d|    5e333542|Vancouver|2024-03-18 22:02:00|2024-03-18 22:14:00|      15.33|      26.34|\n",
      "|c7f2c91f| 0bbbf07e|    5a63248d|  Halifax|2024-05-29 03:38:00|2024-05-29 03:52:00|       0.28|       0.49|\n",
      "+--------+---------+------------+---------+-------------------+-------------------+-----------+-----------+\n",
      "only showing top 20 rows\n",
      "\n",
      "+--------+---------+------------+-------+-------------------+-------------------+-----------+-----------+\n",
      "| ride_id|driver_id|passenger_id|   city|        pickup_time|       dropoff_time|distance_km|fare_amount|\n",
      "+--------+---------+------------+-------+-------------------+-------------------+-----------+-----------+\n",
      "|34fd54f1| 3eb7f5fd|    439e9f97|Calgary|2024-01-01 00:06:00|2024-01-01 00:18:00|      28.26|      83.04|\n",
      "|af6f394c| 2d67f86a|    ed9dc7e4|Calgary|2024-01-01 00:22:00|2024-01-01 01:18:00|      24.81|      44.18|\n",
      "|e8a1ef67| 4c10aa73|    b02d7bda|Calgary|2024-01-01 00:29:00|2024-01-01 00:57:00|      27.42|       46.8|\n",
      "|9bd03826| fce55203|    2b5603bc|Calgary|2024-01-01 00:36:00|2024-01-01 00:51:00|      -1.63|      -3.57|\n",
      "|671ae97b| 6e1dacfd|    e0f042ca|Calgary|2024-01-01 00:43:00|2024-01-01 01:19:00|       16.1|      44.91|\n",
      "|b3543c82| 95629677|    9c91fcb6|Calgary|2024-01-01 00:54:00|2024-01-01 01:43:00|      16.48|      40.79|\n",
      "|21e0cbd0| a9aff5fc|    7ec9c9d4|Calgary|2024-01-01 01:22:00|2024-01-01 01:49:00|      20.26|      59.83|\n",
      "|fc81b4d9| 97d79095|    7ec9c9d4|Calgary|2024-01-01 01:26:00|2024-01-01 02:23:00|      23.43|      57.46|\n",
      "|1eb0ef26| 877f6922|    22a80f58|Calgary|2024-01-01 01:46:00|2024-01-01 01:58:00|        2.7|       6.75|\n",
      "|3d750d17| c851d404|    7c572110|Calgary|2024-01-01 01:47:00|2024-01-01 02:31:00|      -0.54|      -0.89|\n",
      "|d1cde3ca| ed440153|    e2274463|Calgary|2024-01-01 01:52:00|2024-01-01 02:09:00|      28.68|      51.39|\n",
      "|84b74dd1| 95629677|    3e674777|Calgary|2024-01-01 02:02:00|2024-01-01 03:02:00|       19.3|       36.7|\n",
      "|7a388c61| 548c51c9|    41da9fcb|Calgary|2024-01-01 02:03:00|2024-01-01 02:57:00|      17.54|      28.41|\n",
      "|1b631a73| 5e07e0e6|    1b7f342e|Calgary|2024-01-01 02:12:00|2024-01-01 02:31:00|      12.27|      25.71|\n",
      "|db69b31c| a66a2cc1|    d7badcec|Calgary|2024-01-01 02:15:00|2024-01-01 03:13:00|      16.84|      39.75|\n",
      "|3a4e37fd| 7e739678|    065918a2|Calgary|2024-01-01 02:32:00|2024-01-01 03:03:00|      12.17|      21.88|\n",
      "|59f851ca| 3bd43133|    ba4a1f71|Calgary|2024-01-01 02:36:00|2024-01-01 02:51:00|      -4.01|        N/A|\n",
      "|3463d0ef| f3fa3fea|    a7110306|Calgary|2024-01-01 02:54:00|2024-01-01 03:04:00|      13.06|      23.28|\n",
      "|42e9b6fd| 598f2c52|    fc88da8c|Calgary|2024-01-01 02:59:00|2024-01-01 03:10:00|      22.37|      72.09|\n",
      "|afad234f| 0c03f254|    7f970bf7|Calgary|2024-01-01 03:26:00|2024-01-01 04:12:00|      21.34|      71.17|\n",
      "+--------+---------+------------+-------+-------------------+-------------------+-----------+-----------+\n",
      "only showing top 20 rows\n",
      "\n"
     ]
    }
   ],
   "source": [
    "#SQL\n",
    "\n",
    "ride_df.show()\n",
    "\n",
    "ride_df.createOrReplaceTempView(\"rides\")\n",
    "\n",
    "spark.sql(\"select * from rides where lower(city) = 'calgary' order by pickup_time \").show()"
   ]
  },
  {
   "cell_type": "code",
   "execution_count": null,
   "id": "1846cc77-d8a0-4369-b3b2-f8d323d1ccfb",
   "metadata": {},
   "outputs": [],
   "source": []
  },
  {
   "cell_type": "code",
   "execution_count": null,
   "id": "c7b64bd9-2ff4-47cd-a561-b7d2e76b9b89",
   "metadata": {},
   "outputs": [],
   "source": []
  },
  {
   "cell_type": "code",
   "execution_count": 165,
   "id": "d4b7fc26-46c6-4f90-beb2-9cabbdc488e5",
   "metadata": {},
   "outputs": [
    {
     "name": "stdout",
     "output_type": "stream",
     "text": [
      "+--------+---------+------------+---------+-------------------+-------------------+-----------+-----------+\n",
      "| ride_id|driver_id|passenger_id|     city|        pickup_time|       dropoff_time|distance_km|fare_amount|\n",
      "+--------+---------+------------+---------+-------------------+-------------------+-----------+-----------+\n",
      "|c316e38f| a7fd7d33|    b45c40aa|   Ottawa|2024-07-24 01:54:00|2024-07-24 02:49:00|      27.92|      69.38|\n",
      "|c1949764| aa9446f3|    7eb56af9| Montreal|2024-05-24 02:22:00|2024-05-24 02:35:00|       8.99|      19.95|\n",
      "|3f500b60| 3e83bc70|    da010c6c| Montreal|2024-12-06 21:51:00|2024-12-06 22:14:00|      19.49|       31.7|\n",
      "|70ea96dd| 4cceab04|    8fa1dfd0|  Halifax|2024-05-27 03:47:00|2024-05-27 04:26:00|       9.04|      25.75|\n",
      "|474ef781| c5385398|    a7d49d3e| Edmonton|2024-04-10 11:35:00|2024-04-10 12:02:00|      19.97|      51.45|\n",
      "|3bad8ed3| 5827120c|    2288a9bf|   Ottawa|2024-09-22 09:59:00|2024-09-22 10:25:00|      12.21|      26.62|\n",
      "|68c29089| 73a943b2|    0caaa19a| Winnipeg|2024-04-12 14:16:00|2024-04-12 14:31:00|      15.48|      36.78|\n",
      "|95b94876| 002b9b24|    09b1a123| Edmonton|2024-08-20 14:31:00|2024-08-20 15:28:00|      26.91|      91.74|\n",
      "|1aec6419| 97b1b68b|    3b2e03e5|   Ottawa|2024-10-21 13:00:00|2024-10-21 13:33:00|      11.89|      24.25|\n",
      "|08e643b3| 6131fd26|    9c91fcb6|  Toronto|2024-07-20 14:08:00|2024-07-20 14:17:00|       3.51|       5.31|\n",
      "|2e95377d| 2e8fad85|    188dd6ff|  Calgary|2024-08-05 16:58:00|2024-08-05 17:31:00|      25.04|      61.65|\n",
      "|970d4aa8| e331f871|    f759c446|  Halifax|2024-10-05 22:17:00|2024-10-05 22:28:00|      -1.49|      -5.01|\n",
      "|e4ef7306| 5f35135c|    7ec9c9d4| Edmonton|2024-06-02 08:45:00|2024-06-02 09:05:00|       2.11|       4.22|\n",
      "|f2a3389c| 621114e3|    b533694a| Edmonton|2024-08-22 03:42:00|2024-08-22 03:55:00|       2.51|       7.54|\n",
      "|996db9c5| a916d5b6|    14bf9c2d|  Toronto|2024-07-16 15:47:00|2024-07-16 16:22:00|      16.22|      25.48|\n",
      "|646a678a| 5978e358|    c7ed5f72| Winnipeg|2024-09-01 10:06:00|2024-09-01 10:18:00|       0.73|       2.41|\n",
      "|cd26d117| f4baba8e|    25adf562| Edmonton|2024-01-16 08:12:00|2024-01-16 08:30:00|      -1.61|      -5.38|\n",
      "|e6ec43e5| d65421ca|    99ba568d|  Toronto|2024-02-09 00:36:00|2024-02-09 01:24:00|      19.41|      66.03|\n",
      "|42454d74| c36ec30d|    5e333542|Vancouver|2024-03-18 22:02:00|2024-03-18 22:14:00|      15.33|      26.34|\n",
      "|c7f2c91f| 0bbbf07e|    5a63248d|  Halifax|2024-05-29 03:38:00|2024-05-29 03:52:00|       0.28|       0.49|\n",
      "+--------+---------+------------+---------+-------------------+-------------------+-----------+-----------+\n",
      "only showing top 20 rows\n",
      "\n"
     ]
    },
    {
     "data": {
      "text/plain": [
       "500000"
      ]
     },
     "execution_count": 165,
     "metadata": {},
     "output_type": "execute_result"
    }
   ],
   "source": [
    "ride_df.show()\n",
    "\n",
    "ride_df.select(\"ride_id\").count()"
   ]
  },
  {
   "cell_type": "markdown",
   "id": "c6f65896-25b9-4b16-9161-5b259c152480",
   "metadata": {},
   "source": [
    "#### 2. Data Cleaning & Transformation \n",
    "###### • Handle missing or incorrect values. \n",
    "###### • Convert timestamps into a consistent format. \n",
    "###### • Compute additional fields (e.g., trip_duration, fare_per_km). \n",
    "###### • Partition data for efficient querying."
   ]
  },
  {
   "cell_type": "code",
   "execution_count": 166,
   "id": "80c6e2e6-1fcc-46da-b31f-5acea6806075",
   "metadata": {},
   "outputs": [
    {
     "name": "stdout",
     "output_type": "stream",
     "text": [
      "+-------+---------+------------+----+-----------+------------+-----------+-----------+\n",
      "|ride_id|driver_id|passenger_id|city|pickup_time|dropoff_time|distance_km|fare_amount|\n",
      "+-------+---------+------------+----+-----------+------------+-----------+-----------+\n",
      "+-------+---------+------------+----+-----------+------------+-----------+-----------+\n",
      "\n"
     ]
    }
   ],
   "source": [
    "#Handle missing values: Remove Null Rows and Bad Records\n",
    "from pyspark.sql.functions import col\n",
    "\n",
    "# a) check for rows where ride_id is Null\n",
    "ride_df.filter(col(\"ride_id\").isNull() == True).show(10)\n"
   ]
  },
  {
   "cell_type": "code",
   "execution_count": 167,
   "id": "65fa2659-0c26-441f-843d-afa610348a89",
   "metadata": {},
   "outputs": [
    {
     "name": "stdout",
     "output_type": "stream",
     "text": [
      "+--------+---------+------------+---------+-------------------+-------------------+-----------+-----------+\n",
      "| ride_id|driver_id|passenger_id|     city|        pickup_time|       dropoff_time|distance_km|fare_amount|\n",
      "+--------+---------+------------+---------+-------------------+-------------------+-----------+-----------+\n",
      "|c316e38f| a7fd7d33|    b45c40aa|   Ottawa|2024-07-24 01:54:00|2024-07-24 02:49:00|      27.92|      69.38|\n",
      "|c1949764| aa9446f3|    7eb56af9| Montreal|2024-05-24 02:22:00|2024-05-24 02:35:00|       8.99|      19.95|\n",
      "|3f500b60| 3e83bc70|    da010c6c| Montreal|2024-12-06 21:51:00|2024-12-06 22:14:00|      19.49|       31.7|\n",
      "|70ea96dd| 4cceab04|    8fa1dfd0|  Halifax|2024-05-27 03:47:00|2024-05-27 04:26:00|       9.04|      25.75|\n",
      "|474ef781| c5385398|    a7d49d3e| Edmonton|2024-04-10 11:35:00|2024-04-10 12:02:00|      19.97|      51.45|\n",
      "|3bad8ed3| 5827120c|    2288a9bf|   Ottawa|2024-09-22 09:59:00|2024-09-22 10:25:00|      12.21|      26.62|\n",
      "|68c29089| 73a943b2|    0caaa19a| Winnipeg|2024-04-12 14:16:00|2024-04-12 14:31:00|      15.48|      36.78|\n",
      "|95b94876| 002b9b24|    09b1a123| Edmonton|2024-08-20 14:31:00|2024-08-20 15:28:00|      26.91|      91.74|\n",
      "|1aec6419| 97b1b68b|    3b2e03e5|   Ottawa|2024-10-21 13:00:00|2024-10-21 13:33:00|      11.89|      24.25|\n",
      "|08e643b3| 6131fd26|    9c91fcb6|  Toronto|2024-07-20 14:08:00|2024-07-20 14:17:00|       3.51|       5.31|\n",
      "|2e95377d| 2e8fad85|    188dd6ff|  Calgary|2024-08-05 16:58:00|2024-08-05 17:31:00|      25.04|      61.65|\n",
      "|970d4aa8| e331f871|    f759c446|  Halifax|2024-10-05 22:17:00|2024-10-05 22:28:00|      -1.49|      -5.01|\n",
      "|e4ef7306| 5f35135c|    7ec9c9d4| Edmonton|2024-06-02 08:45:00|2024-06-02 09:05:00|       2.11|       4.22|\n",
      "|f2a3389c| 621114e3|    b533694a| Edmonton|2024-08-22 03:42:00|2024-08-22 03:55:00|       2.51|       7.54|\n",
      "|996db9c5| a916d5b6|    14bf9c2d|  Toronto|2024-07-16 15:47:00|2024-07-16 16:22:00|      16.22|      25.48|\n",
      "|646a678a| 5978e358|    c7ed5f72| Winnipeg|2024-09-01 10:06:00|2024-09-01 10:18:00|       0.73|       2.41|\n",
      "|cd26d117| f4baba8e|    25adf562| Edmonton|2024-01-16 08:12:00|2024-01-16 08:30:00|      -1.61|      -5.38|\n",
      "|e6ec43e5| d65421ca|    99ba568d|  Toronto|2024-02-09 00:36:00|2024-02-09 01:24:00|      19.41|      66.03|\n",
      "|42454d74| c36ec30d|    5e333542|Vancouver|2024-03-18 22:02:00|2024-03-18 22:14:00|      15.33|      26.34|\n",
      "|c7f2c91f| 0bbbf07e|    5a63248d|  Halifax|2024-05-29 03:38:00|2024-05-29 03:52:00|       0.28|       0.49|\n",
      "+--------+---------+------------+---------+-------------------+-------------------+-----------+-----------+\n",
      "only showing top 20 rows\n",
      "\n"
     ]
    },
    {
     "data": {
      "text/plain": [
       "500000"
      ]
     },
     "execution_count": 167,
     "metadata": {},
     "output_type": "execute_result"
    }
   ],
   "source": [
    "# b) drop rows where all columns are Null\n",
    "ride_df.na.drop(\"all\").show()\n",
    "\n",
    "ride_df.select(\"ride_id\").count()"
   ]
  },
  {
   "cell_type": "code",
   "execution_count": 168,
   "id": "d41de0ff-fa1c-41a5-8ea3-501c564552f7",
   "metadata": {},
   "outputs": [
    {
     "name": "stdout",
     "output_type": "stream",
     "text": [
      "+--------+---------+------------+---------+-------------------+-------------------+-----------+-----------+\n",
      "| ride_id|driver_id|passenger_id|     city|        pickup_time|       dropoff_time|distance_km|fare_amount|\n",
      "+--------+---------+------------+---------+-------------------+-------------------+-----------+-----------+\n",
      "|27cd5dcd| a9aff5fc|        NULL|Vancouver|2024-11-11 13:00:00|2024-11-11 13:06:00|      24.29|      69.78|\n",
      "|44101959|     NULL|    78a98156| Winnipeg|2024-06-17 11:54:00|2024-06-17 12:49:00|      25.67|      44.17|\n",
      "|995b7a99|     NULL|    5304fb93| Edmonton|2024-06-29 01:16:00|2024-06-29 01:40:00|      12.64|      34.82|\n",
      "|1d6afddf|     NULL|    98a68c71|  Toronto|2024-09-19 19:11:00|2024-09-19 19:06:00|      29.33|      91.58|\n",
      "|9c6047a5|     NULL|    78da686d|   Ottawa|2024-09-29 19:07:00|2024-09-29 19:20:00|      26.63|      55.53|\n",
      "|3dbc78f5| 88b3cfc9|        NULL| Edmonton|2024-06-21 02:52:00|2024-06-21 03:05:00|      -3.13|       -8.4|\n",
      "|63c328ad| 28fcf0ca|        NULL|  Toronto|2024-09-17 11:39:00|2024-09-17 12:28:00|      27.15|      55.29|\n",
      "|6a41d453| 632b8396|        NULL|Vancouver|2024-12-10 08:25:00|2024-12-10 09:13:00|       6.65|      11.74|\n",
      "|88ce431c|     NULL|    89afc5b7| Montreal|2024-10-27 13:52:00|2024-10-27 14:25:00|      20.66|        N/A|\n",
      "|36f6405c| d371aa7b|        NULL|  Calgary|2024-09-24 20:43:00|2024-09-24 20:38:00|      -0.91|      -2.52|\n",
      "|a21d43b7|     NULL|    c66da218| Winnipeg|2024-09-27 21:01:00|2024-09-27 21:10:00|       8.39|      16.81|\n",
      "|e7cac974| f6a748fd|        NULL|  Calgary|2024-05-07 02:48:00|2024-05-07 03:29:00|       6.37|      13.06|\n",
      "|2808d52c| 1488d85b|        NULL| Edmonton|2024-09-09 04:34:00|2024-09-09 05:09:00|        5.8|      16.82|\n",
      "|fff4a847| c7c1d6ba|        NULL|  Toronto|2024-05-23 01:32:00|2024-05-23 02:07:00|      24.63|      56.31|\n",
      "|fc42d7cc|     NULL|    48eaae07|   Ottawa|2024-08-12 21:54:00|2024-08-12 22:40:00|        4.5|       8.04|\n",
      "|68d8ac74|     NULL|    c5b488be|  Calgary|2024-09-03 10:28:00|2024-09-03 11:05:00|       25.1|      40.27|\n",
      "|d0fda2b2| 8ee732b3|        NULL| Montreal|2024-02-21 09:37:00|2024-02-21 10:15:00|       17.2|      32.81|\n",
      "|2ab169ad| dac80ea2|        NULL|  Toronto|2024-03-12 23:06:00|2024-03-12 23:02:00|      26.61|        N/A|\n",
      "|3c4134a7| 30d76944|        NULL| Montreal|2024-03-13 21:33:00|2024-03-13 22:32:00|      26.72|      45.27|\n",
      "|0619a7f6| 300815ec|        NULL|  Toronto|2024-01-15 04:01:00|2024-01-15 04:12:00|      -0.12|      -0.18|\n",
      "+--------+---------+------------+---------+-------------------+-------------------+-----------+-----------+\n",
      "only showing top 20 rows\n",
      "\n"
     ]
    },
    {
     "data": {
      "text/plain": [
       "0"
      ]
     },
     "execution_count": 168,
     "metadata": {},
     "output_type": "execute_result"
    }
   ],
   "source": [
    "from pyspark.sql.functions import col\n",
    "\n",
    "null_values = ride_df.filter(\n",
    "    col(\"ride_id\").isNull() |\n",
    "    col(\"driver_id\").isNull() |\n",
    "    col(\"passenger_id\").isNull() |\n",
    "    col(\"fare_amount\").isNull() | \n",
    "    col(\"distance_km\").isNull() | \n",
    "    col(\"pickup_time\").isNull() | \n",
    "    col(\"dropoff_time\").isNull()\n",
    ")\n",
    "null_values.show()\n",
    "null_values.count()\n",
    "\n",
    "ride_df = ride_df.fillna({'driver_id': 'others'})\n",
    "\n",
    "ride_df.select('driver_id').filter(col('driver_id').isNull()).count()"
   ]
  },
  {
   "cell_type": "code",
   "execution_count": 169,
   "id": "6e769435-8c06-4db3-8798-b5475cf8787a",
   "metadata": {},
   "outputs": [
    {
     "data": {
      "text/plain": [
       "9961"
      ]
     },
     "execution_count": 169,
     "metadata": {},
     "output_type": "execute_result"
    }
   ],
   "source": [
    "ride_df.select('passenger_id').filter(col('passenger_id').isNull()).count()"
   ]
  },
  {
   "cell_type": "code",
   "execution_count": 170,
   "id": "c00e99e9-db1c-47cf-bfe8-88ec53bedb55",
   "metadata": {},
   "outputs": [
    {
     "data": {
      "text/plain": [
       "0"
      ]
     },
     "execution_count": 170,
     "metadata": {},
     "output_type": "execute_result"
    }
   ],
   "source": [
    "ride_df.select('city').filter(col('city').isNull()).count()"
   ]
  },
  {
   "cell_type": "code",
   "execution_count": 171,
   "id": "5565b17d-1828-4582-8e1f-cecd93293d2f",
   "metadata": {},
   "outputs": [],
   "source": [
    "from pyspark.sql.functions import when, abs \n",
    "\n",
    "ride_df = ride_df.withColumn(\"distance_km\", when(col(\"distance_km\") == -0.0, float(0.0)).otherwise(col(\"distance_km\"))) \\\n",
    "                 .withColumn(\"distance_km\", abs(col(\"distance_km\"))) \\\n",
    "                 .withColumn(\"fare_amount\", abs(col(\"fare_amount\")))\n"
   ]
  },
  {
   "cell_type": "code",
   "execution_count": 172,
   "id": "255d901d-39a0-4075-b711-36791d625b3d",
   "metadata": {},
   "outputs": [
    {
     "data": {
      "text/plain": [
       "0"
      ]
     },
     "execution_count": 172,
     "metadata": {},
     "output_type": "execute_result"
    }
   ],
   "source": [
    "ride_df.filter(col('distance_km') < 0).count()"
   ]
  },
  {
   "cell_type": "code",
   "execution_count": 173,
   "id": "c2e31fc1-682d-4371-8185-5e8ffd99faf4",
   "metadata": {},
   "outputs": [
    {
     "name": "stdout",
     "output_type": "stream",
     "text": [
      "+--------+---------+------------+---------+-------------------+-------------------+-----------+-----------+\n",
      "| ride_id|driver_id|passenger_id|     city|        pickup_time|       dropoff_time|distance_km|fare_amount|\n",
      "+--------+---------+------------+---------+-------------------+-------------------+-----------+-----------+\n",
      "|c316e38f| a7fd7d33|    b45c40aa|   Ottawa|2024-07-24 01:54:00|2024-07-24 02:49:00|      27.92|      69.38|\n",
      "|c1949764| aa9446f3|    7eb56af9| Montreal|2024-05-24 02:22:00|2024-05-24 02:35:00|       8.99|      19.95|\n",
      "|3f500b60| 3e83bc70|    da010c6c| Montreal|2024-12-06 21:51:00|2024-12-06 22:14:00|      19.49|       31.7|\n",
      "|70ea96dd| 4cceab04|    8fa1dfd0|  Halifax|2024-05-27 03:47:00|2024-05-27 04:26:00|       9.04|      25.75|\n",
      "|474ef781| c5385398|    a7d49d3e| Edmonton|2024-04-10 11:35:00|2024-04-10 12:02:00|      19.97|      51.45|\n",
      "|3bad8ed3| 5827120c|    2288a9bf|   Ottawa|2024-09-22 09:59:00|2024-09-22 10:25:00|      12.21|      26.62|\n",
      "|68c29089| 73a943b2|    0caaa19a| Winnipeg|2024-04-12 14:16:00|2024-04-12 14:31:00|      15.48|      36.78|\n",
      "|95b94876| 002b9b24|    09b1a123| Edmonton|2024-08-20 14:31:00|2024-08-20 15:28:00|      26.91|      91.74|\n",
      "|1aec6419| 97b1b68b|    3b2e03e5|   Ottawa|2024-10-21 13:00:00|2024-10-21 13:33:00|      11.89|      24.25|\n",
      "|08e643b3| 6131fd26|    9c91fcb6|  Toronto|2024-07-20 14:08:00|2024-07-20 14:17:00|       3.51|       5.31|\n",
      "|2e95377d| 2e8fad85|    188dd6ff|  Calgary|2024-08-05 16:58:00|2024-08-05 17:31:00|      25.04|      61.65|\n",
      "|970d4aa8| e331f871|    f759c446|  Halifax|2024-10-05 22:17:00|2024-10-05 22:28:00|       1.49|       5.01|\n",
      "|e4ef7306| 5f35135c|    7ec9c9d4| Edmonton|2024-06-02 08:45:00|2024-06-02 09:05:00|       2.11|       4.22|\n",
      "|f2a3389c| 621114e3|    b533694a| Edmonton|2024-08-22 03:42:00|2024-08-22 03:55:00|       2.51|       7.54|\n",
      "|996db9c5| a916d5b6|    14bf9c2d|  Toronto|2024-07-16 15:47:00|2024-07-16 16:22:00|      16.22|      25.48|\n",
      "|646a678a| 5978e358|    c7ed5f72| Winnipeg|2024-09-01 10:06:00|2024-09-01 10:18:00|       0.73|       2.41|\n",
      "|cd26d117| f4baba8e|    25adf562| Edmonton|2024-01-16 08:12:00|2024-01-16 08:30:00|       1.61|       5.38|\n",
      "|e6ec43e5| d65421ca|    99ba568d|  Toronto|2024-02-09 00:36:00|2024-02-09 01:24:00|      19.41|      66.03|\n",
      "|42454d74| c36ec30d|    5e333542|Vancouver|2024-03-18 22:02:00|2024-03-18 22:14:00|      15.33|      26.34|\n",
      "|c7f2c91f| 0bbbf07e|    5a63248d|  Halifax|2024-05-29 03:38:00|2024-05-29 03:52:00|       0.28|       0.49|\n",
      "+--------+---------+------------+---------+-------------------+-------------------+-----------+-----------+\n",
      "only showing top 20 rows\n",
      "\n"
     ]
    }
   ],
   "source": [
    "ride_df.show()"
   ]
  },
  {
   "cell_type": "code",
   "execution_count": 174,
   "id": "917518ce-d41f-4f8b-a917-cc37b7985f80",
   "metadata": {},
   "outputs": [
    {
     "name": "stdout",
     "output_type": "stream",
     "text": [
      "root\n",
      " |-- ride_id: string (nullable = true)\n",
      " |-- driver_id: string (nullable = false)\n",
      " |-- passenger_id: string (nullable = true)\n",
      " |-- city: string (nullable = true)\n",
      " |-- pickup_time: string (nullable = true)\n",
      " |-- dropoff_time: string (nullable = true)\n",
      " |-- distance_km: double (nullable = true)\n",
      " |-- fare_amount: double (nullable = true)\n",
      "\n"
     ]
    }
   ],
   "source": [
    "ride_df.printSchema()"
   ]
  },
  {
   "cell_type": "code",
   "execution_count": 175,
   "id": "2346e3b1-daf2-4624-9d3d-15029dfc2b54",
   "metadata": {},
   "outputs": [
    {
     "name": "stdout",
     "output_type": "stream",
     "text": [
      "+-------+--------+---------+------------+-------------------+-------------------+------------------+------------------+\n",
      "|summary| ride_id|driver_id|passenger_id|        pickup_time|       dropoff_time|       distance_km|       fare_amount|\n",
      "+-------+--------+---------+------------+-------------------+-------------------+------------------+------------------+\n",
      "|  count|  500000|   500000|      490039|             500000|             500000|            500000|            490023|\n",
      "|   mean|Infinity| Infinity|    Infinity|               NULL|               NULL|13.205805000000016| 33.02466433208242|\n",
      "| stddev|     NaN|      NaN|         NaN|               NULL|               NULL| 9.146537441844819|24.681377419892314|\n",
      "|    min|00000c64| 002b9b24|    0014c057|2024-01-01 00:00:00|2024-01-01 00:05:00|               0.0|               0.0|\n",
      "|    max|fffffbe5|   others|    fff4ca56|2024-12-31 23:59:00|2025-01-01 00:50:00|              30.0|            104.75|\n",
      "+-------+--------+---------+------------+-------------------+-------------------+------------------+------------------+\n",
      "\n"
     ]
    }
   ],
   "source": [
    "ride_df.describe(\"ride_id\",\"driver_id\",\"passenger_id\",\"pickup_time\",\"dropoff_time\",\"distance_km\",\n",
    "                 \"fare_amount\").show()"
   ]
  },
  {
   "cell_type": "code",
   "execution_count": 176,
   "id": "61140ee1-6e0e-4695-8c68-1d03df4662bc",
   "metadata": {},
   "outputs": [
    {
     "name": "stdout",
     "output_type": "stream",
     "text": [
      "+--------+---------+------------+---------+-------------------+-------------------+-----------+-----------+\n",
      "| ride_id|driver_id|passenger_id|     city|        pickup_time|       dropoff_time|distance_km|fare_amount|\n",
      "+--------+---------+------------+---------+-------------------+-------------------+-----------+-----------+\n",
      "|c1949764| aa9446f3|    7eb56af9| Montreal|2024-05-24 02:22:00|2024-05-24 02:35:00|       8.99|      19.95|\n",
      "|03052d96| 5444da20|    2267aeeb| Montreal|2024-08-29 20:25:00|2024-08-29 20:38:00|      22.83|      68.36|\n",
      "|62af0b48| 4edb9c23|    021d7acd|  Calgary|2024-01-21 16:27:00|2024-01-21 16:57:00|       9.18|      13.86|\n",
      "|43dcae58| 6f6985cc|    8fa1dfd0| Montreal|2024-10-14 13:36:00|2024-10-14 14:07:00|       3.94|       9.38|\n",
      "|33cf8a7d| b39b8a53|    d22ecea5| Montreal|2024-05-09 02:39:00|2024-05-09 03:11:00|       3.59|       8.26|\n",
      "|5eeb8dea| e29a7cc7|    dff6c6b7| Montreal|2024-06-10 05:27:00|2024-06-10 05:48:00|       2.37|       8.16|\n",
      "|755a8b43| fde86264|    d7dbbada|Vancouver|2024-02-24 12:09:00|2024-02-24 13:06:00|      28.48|      89.61|\n",
      "|91c13b64| 6561c912|    30be472d|Vancouver|2024-03-23 18:35:00|2024-03-23 18:50:00|      10.87|      29.74|\n",
      "|b1a4588e| 2a7e2b81|    1cfa8553|  Toronto|2024-07-14 21:05:00|2024-07-14 21:22:00|      20.68|      64.96|\n",
      "|8761918d| 7567951d|    307757af| Edmonton|2024-08-25 16:07:00|2024-08-25 16:17:00|      17.45|       26.4|\n",
      "|6305186c| 7fcb6d24|    bfb6961a|   Ottawa|2024-09-17 22:10:00|2024-09-17 22:18:00|      18.75|      61.19|\n",
      "|1b14fa03| c71e7500|    d759e09b| Winnipeg|2024-09-18 06:27:00|2024-09-18 07:26:00|       5.29|      14.55|\n",
      "|2d23f5c5| 1488d85b|    300d7f86|   Ottawa|2024-06-10 12:16:00|2024-06-10 12:50:00|       0.95|        2.8|\n",
      "|b1ed2b43| e25427f9|    65f14ca3| Winnipeg|2024-06-02 04:59:00|2024-06-02 05:15:00|      25.59|      38.83|\n",
      "|1b4d43ca| ab60f7e7|    274fd0ba|  Halifax|2024-11-10 11:14:00|2024-11-10 11:28:00|       4.56|      11.92|\n",
      "|1dc19b3e| 4069b98d|    400982eb|Vancouver|2024-07-26 06:00:00|2024-07-26 06:53:00|        3.0|       5.35|\n",
      "|0a166ee9| 4e93cb94|    df289a30| Edmonton|2024-04-16 18:32:00|2024-04-16 18:40:00|      15.93|      38.79|\n",
      "|21dca0f4| 9ee69b02|    6ffe5a61| Montreal|2024-06-19 20:02:00|2024-06-19 20:31:00|       8.62|       27.3|\n",
      "|a579d682| 6429e7de|    474ffe51|  Calgary|2024-07-01 05:22:00|2024-07-01 05:39:00|       3.04|       9.12|\n",
      "|1e2b64cf| d7921609|    25adf562| Edmonton|2024-05-12 12:28:00|2024-05-12 13:18:00|      16.71|       47.2|\n",
      "+--------+---------+------------+---------+-------------------+-------------------+-----------+-----------+\n",
      "only showing top 20 rows\n",
      "\n"
     ]
    },
    {
     "data": {
      "text/plain": [
       "500000"
      ]
     },
     "execution_count": 176,
     "metadata": {},
     "output_type": "execute_result"
    }
   ],
   "source": [
    "# remove all distinct values\n",
    "ridedistinct_df = ride_df.distinct() \n",
    "\n",
    "ridedistinct_df.show()\n",
    "ridedistinct_df.count()"
   ]
  },
  {
   "cell_type": "code",
   "execution_count": 177,
   "id": "e42fae3d-2e3c-41af-a9bd-020f0f70a388",
   "metadata": {},
   "outputs": [],
   "source": [
    "#Convert timestamps into a consistent format. \n",
    "from pyspark.sql.functions import to_timestamp, col\n",
    "from pyspark.sql.types import FloatType\n",
    "\n",
    "ride_df = ride_df.withColumn('pickup_date', to_timestamp(col('pickup_time'), 'yyyy-MM-dd HH:mm:ss')) \\\n",
    "                 .withColumn('dropoff_date', to_timestamp(col('dropoff_time'), 'yyyy-MM-dd HH:mm:ss')) \\\n",
    "                 .withColumn('distance_km', col('distance_km').cast(FloatType())) \\\n",
    "                 .withColumn('fare_amount', col('fare_amount').cast(FloatType())) \\\n",
    "                 .drop('pickup_time') \\\n",
    "                 .drop('dropoff_time')"
   ]
  },
  {
   "cell_type": "code",
   "execution_count": 178,
   "id": "a1152ada-cdd4-4da9-8c63-3ad2ea2d7368",
   "metadata": {},
   "outputs": [
    {
     "name": "stdout",
     "output_type": "stream",
     "text": [
      "+--------+---------+------------+---------+-----------+-----------+-------------------+-------------------+\n",
      "| ride_id|driver_id|passenger_id|     city|distance_km|fare_amount|        pickup_date|       dropoff_date|\n",
      "+--------+---------+------------+---------+-----------+-----------+-------------------+-------------------+\n",
      "|c316e38f| a7fd7d33|    b45c40aa|   Ottawa|      27.92|      69.38|2024-07-24 01:54:00|2024-07-24 02:49:00|\n",
      "|c1949764| aa9446f3|    7eb56af9| Montreal|       8.99|      19.95|2024-05-24 02:22:00|2024-05-24 02:35:00|\n",
      "|3f500b60| 3e83bc70|    da010c6c| Montreal|      19.49|       31.7|2024-12-06 21:51:00|2024-12-06 22:14:00|\n",
      "|70ea96dd| 4cceab04|    8fa1dfd0|  Halifax|       9.04|      25.75|2024-05-27 03:47:00|2024-05-27 04:26:00|\n",
      "|474ef781| c5385398|    a7d49d3e| Edmonton|      19.97|      51.45|2024-04-10 11:35:00|2024-04-10 12:02:00|\n",
      "|3bad8ed3| 5827120c|    2288a9bf|   Ottawa|      12.21|      26.62|2024-09-22 09:59:00|2024-09-22 10:25:00|\n",
      "|68c29089| 73a943b2|    0caaa19a| Winnipeg|      15.48|      36.78|2024-04-12 14:16:00|2024-04-12 14:31:00|\n",
      "|95b94876| 002b9b24|    09b1a123| Edmonton|      26.91|      91.74|2024-08-20 14:31:00|2024-08-20 15:28:00|\n",
      "|1aec6419| 97b1b68b|    3b2e03e5|   Ottawa|      11.89|      24.25|2024-10-21 13:00:00|2024-10-21 13:33:00|\n",
      "|08e643b3| 6131fd26|    9c91fcb6|  Toronto|       3.51|       5.31|2024-07-20 14:08:00|2024-07-20 14:17:00|\n",
      "|2e95377d| 2e8fad85|    188dd6ff|  Calgary|      25.04|      61.65|2024-08-05 16:58:00|2024-08-05 17:31:00|\n",
      "|970d4aa8| e331f871|    f759c446|  Halifax|       1.49|       5.01|2024-10-05 22:17:00|2024-10-05 22:28:00|\n",
      "|e4ef7306| 5f35135c|    7ec9c9d4| Edmonton|       2.11|       4.22|2024-06-02 08:45:00|2024-06-02 09:05:00|\n",
      "|f2a3389c| 621114e3|    b533694a| Edmonton|       2.51|       7.54|2024-08-22 03:42:00|2024-08-22 03:55:00|\n",
      "|996db9c5| a916d5b6|    14bf9c2d|  Toronto|      16.22|      25.48|2024-07-16 15:47:00|2024-07-16 16:22:00|\n",
      "|646a678a| 5978e358|    c7ed5f72| Winnipeg|       0.73|       2.41|2024-09-01 10:06:00|2024-09-01 10:18:00|\n",
      "|cd26d117| f4baba8e|    25adf562| Edmonton|       1.61|       5.38|2024-01-16 08:12:00|2024-01-16 08:30:00|\n",
      "|e6ec43e5| d65421ca|    99ba568d|  Toronto|      19.41|      66.03|2024-02-09 00:36:00|2024-02-09 01:24:00|\n",
      "|42454d74| c36ec30d|    5e333542|Vancouver|      15.33|      26.34|2024-03-18 22:02:00|2024-03-18 22:14:00|\n",
      "|c7f2c91f| 0bbbf07e|    5a63248d|  Halifax|       0.28|       0.49|2024-05-29 03:38:00|2024-05-29 03:52:00|\n",
      "+--------+---------+------------+---------+-----------+-----------+-------------------+-------------------+\n",
      "only showing top 20 rows\n",
      "\n"
     ]
    }
   ],
   "source": [
    "ride_df.show()"
   ]
  },
  {
   "cell_type": "code",
   "execution_count": 179,
   "id": "9b84f3dd-e4fa-48f0-be29-a205e2df7849",
   "metadata": {},
   "outputs": [],
   "source": [
    "#Compute additional fields (e.g., trip_duration, fare_per_km). "
   ]
  },
  {
   "cell_type": "code",
   "execution_count": 180,
   "id": "776f93ff-3002-4ce8-8043-33dcdf4b6534",
   "metadata": {},
   "outputs": [],
   "source": [
    "from pyspark.sql.functions import expr, abs, unix_timestamp, col, round, year, month\n",
    "\n",
    "ride_df = ride_df.withColumn('trip_duration_sec', abs(unix_timestamp(col('dropoff_date')) - unix_timestamp(col('pickup_date')))) \\\n",
    "                 .withColumn('trip_duration_min', (col('trip_duration_sec') / 60)) \\\n",
    "                 .withColumn('fare_per_km', round(col('fare_amount')/col('distance_km'),2)) \\\n",
    "                 .withColumn('tripyear', (year(col('pickup_date')))) \\\n",
    "                 .withColumn('tripmonth', (month(col('pickup_date'))))\n"
   ]
  },
  {
   "cell_type": "code",
   "execution_count": 181,
   "id": "326d59ad-5a9f-4381-976e-63d4e8e3ed02",
   "metadata": {},
   "outputs": [
    {
     "name": "stdout",
     "output_type": "stream",
     "text": [
      "+--------+---------+------------+---------+-----------+-----------+-------------------+-------------------+-----------------+-----------------+-----------+--------+---------+\n",
      "| ride_id|driver_id|passenger_id|     city|distance_km|fare_amount|        pickup_date|       dropoff_date|trip_duration_sec|trip_duration_min|fare_per_km|tripyear|tripmonth|\n",
      "+--------+---------+------------+---------+-----------+-----------+-------------------+-------------------+-----------------+-----------------+-----------+--------+---------+\n",
      "|c316e38f| a7fd7d33|    b45c40aa|   Ottawa|      27.92|      69.38|2024-07-24 01:54:00|2024-07-24 02:49:00|             3300|             55.0|       2.48|    2024|        7|\n",
      "|c1949764| aa9446f3|    7eb56af9| Montreal|       8.99|      19.95|2024-05-24 02:22:00|2024-05-24 02:35:00|              780|             13.0|       2.22|    2024|        5|\n",
      "|3f500b60| 3e83bc70|    da010c6c| Montreal|      19.49|       31.7|2024-12-06 21:51:00|2024-12-06 22:14:00|             1380|             23.0|       1.63|    2024|       12|\n",
      "|70ea96dd| 4cceab04|    8fa1dfd0|  Halifax|       9.04|      25.75|2024-05-27 03:47:00|2024-05-27 04:26:00|             2340|             39.0|       2.85|    2024|        5|\n",
      "|474ef781| c5385398|    a7d49d3e| Edmonton|      19.97|      51.45|2024-04-10 11:35:00|2024-04-10 12:02:00|             1620|             27.0|       2.58|    2024|        4|\n",
      "|3bad8ed3| 5827120c|    2288a9bf|   Ottawa|      12.21|      26.62|2024-09-22 09:59:00|2024-09-22 10:25:00|             1560|             26.0|       2.18|    2024|        9|\n",
      "|68c29089| 73a943b2|    0caaa19a| Winnipeg|      15.48|      36.78|2024-04-12 14:16:00|2024-04-12 14:31:00|              900|             15.0|       2.38|    2024|        4|\n",
      "|95b94876| 002b9b24|    09b1a123| Edmonton|      26.91|      91.74|2024-08-20 14:31:00|2024-08-20 15:28:00|             3420|             57.0|       3.41|    2024|        8|\n",
      "|1aec6419| 97b1b68b|    3b2e03e5|   Ottawa|      11.89|      24.25|2024-10-21 13:00:00|2024-10-21 13:33:00|             1980|             33.0|       2.04|    2024|       10|\n",
      "|08e643b3| 6131fd26|    9c91fcb6|  Toronto|       3.51|       5.31|2024-07-20 14:08:00|2024-07-20 14:17:00|              540|              9.0|       1.51|    2024|        7|\n",
      "|2e95377d| 2e8fad85|    188dd6ff|  Calgary|      25.04|      61.65|2024-08-05 16:58:00|2024-08-05 17:31:00|             1980|             33.0|       2.46|    2024|        8|\n",
      "|970d4aa8| e331f871|    f759c446|  Halifax|       1.49|       5.01|2024-10-05 22:17:00|2024-10-05 22:28:00|              660|             11.0|       3.36|    2024|       10|\n",
      "|e4ef7306| 5f35135c|    7ec9c9d4| Edmonton|       2.11|       4.22|2024-06-02 08:45:00|2024-06-02 09:05:00|             1200|             20.0|        2.0|    2024|        6|\n",
      "|f2a3389c| 621114e3|    b533694a| Edmonton|       2.51|       7.54|2024-08-22 03:42:00|2024-08-22 03:55:00|              780|             13.0|        3.0|    2024|        8|\n",
      "|996db9c5| a916d5b6|    14bf9c2d|  Toronto|      16.22|      25.48|2024-07-16 15:47:00|2024-07-16 16:22:00|             2100|             35.0|       1.57|    2024|        7|\n",
      "|646a678a| 5978e358|    c7ed5f72| Winnipeg|       0.73|       2.41|2024-09-01 10:06:00|2024-09-01 10:18:00|              720|             12.0|        3.3|    2024|        9|\n",
      "|cd26d117| f4baba8e|    25adf562| Edmonton|       1.61|       5.38|2024-01-16 08:12:00|2024-01-16 08:30:00|             1080|             18.0|       3.34|    2024|        1|\n",
      "|e6ec43e5| d65421ca|    99ba568d|  Toronto|      19.41|      66.03|2024-02-09 00:36:00|2024-02-09 01:24:00|             2880|             48.0|        3.4|    2024|        2|\n",
      "|42454d74| c36ec30d|    5e333542|Vancouver|      15.33|      26.34|2024-03-18 22:02:00|2024-03-18 22:14:00|              720|             12.0|       1.72|    2024|        3|\n",
      "|c7f2c91f| 0bbbf07e|    5a63248d|  Halifax|       0.28|       0.49|2024-05-29 03:38:00|2024-05-29 03:52:00|              840|             14.0|       1.75|    2024|        5|\n",
      "+--------+---------+------------+---------+-----------+-----------+-------------------+-------------------+-----------------+-----------------+-----------+--------+---------+\n",
      "only showing top 20 rows\n",
      "\n"
     ]
    }
   ],
   "source": [
    "ride_df.show()"
   ]
  },
  {
   "cell_type": "code",
   "execution_count": 182,
   "id": "4365cc32-c873-412f-9b52-3263eb91a945",
   "metadata": {},
   "outputs": [],
   "source": [
    "#ride_final_df = ride_df.write.format('parquet').mode('overwrite')\\\n",
    "#                       .partitionBy('tripyear','tripmonth') \\\n",
    "#                       .option('C:/Users/Lovette/sparktests/sparkdf/Python_Practise/Written_Files/ride_final') \\\n",
    "#                       .save()"
   ]
  },
  {
   "cell_type": "code",
   "execution_count": 183,
   "id": "b8a85137-74b8-4afe-9667-b8c58e822863",
   "metadata": {},
   "outputs": [],
   "source": [
    "# 3. Data Storage [OPTIONAL] (PostgreSQL / Snowflake) \n",
    "# • Store the cleaned data in a SQL-based warehouse. \n",
    "# • Optimize table schema for analytical queries. "
   ]
  },
  {
   "cell_type": "markdown",
   "id": "1893e07a-5bde-45d9-ab8d-9da74fb89a3c",
   "metadata": {},
   "source": [
    "#### 4. Batch Processing & Analysis \n",
    "##### Use Spark to compute: \n",
    "######    • Daily/weekly/monthly ride counts. \n",
    "######    • Top drivers by earnings. \n",
    "######    • Average trip duration per city. \n",
    "######    • Revenue trends over time. "
   ]
  },
  {
   "cell_type": "code",
   "execution_count": 184,
   "id": "ec5e710e-44fc-47f4-96b6-701b98521831",
   "metadata": {},
   "outputs": [
    {
     "name": "stdout",
     "output_type": "stream",
     "text": [
      "+----------+-----------+\n",
      "| ride_date|daily_rides|\n",
      "+----------+-----------+\n",
      "|2024-01-01|       1307|\n",
      "|2024-01-02|       1339|\n",
      "|2024-01-03|       1389|\n",
      "|2024-01-04|       1357|\n",
      "|2024-01-05|       1390|\n",
      "|2024-01-06|       1312|\n",
      "|2024-01-07|       1341|\n",
      "|2024-01-08|       1373|\n",
      "|2024-01-09|       1339|\n",
      "|2024-01-10|       1364|\n",
      "|2024-01-11|       1343|\n",
      "|2024-01-12|       1365|\n",
      "|2024-01-13|       1389|\n",
      "|2024-01-14|       1333|\n",
      "|2024-01-15|       1388|\n",
      "|2024-01-16|       1397|\n",
      "|2024-01-17|       1384|\n",
      "|2024-01-18|       1436|\n",
      "|2024-01-19|       1337|\n",
      "|2024-01-20|       1415|\n",
      "+----------+-----------+\n",
      "only showing top 20 rows\n",
      "\n",
      "+---------+------------+\n",
      "|ride_week|weekly_rides|\n",
      "+---------+------------+\n",
      "|        1|       12227|\n",
      "|        2|        9506|\n",
      "|        3|        9779|\n",
      "|        4|        9574|\n",
      "|        5|        9494|\n",
      "|        6|        9467|\n",
      "|        7|        9521|\n",
      "|        8|        9471|\n",
      "|        9|        9513|\n",
      "|       10|        9706|\n",
      "|       11|        9453|\n",
      "|       12|        9472|\n",
      "|       13|        9647|\n",
      "|       14|        9790|\n",
      "|       15|        9685|\n",
      "|       16|        9613|\n",
      "|       17|        9608|\n",
      "|       18|        9819|\n",
      "|       19|        9601|\n",
      "|       20|        9678|\n",
      "+---------+------------+\n",
      "only showing top 20 rows\n",
      "\n",
      "+----------+-------------+\n",
      "|ride_month|monthly_rides|\n",
      "+----------+-------------+\n",
      "|         1|        42367|\n",
      "|         2|        39290|\n",
      "|         3|        42381|\n",
      "|         4|        41476|\n",
      "|         5|        42570|\n",
      "|         6|        41073|\n",
      "|         7|        42209|\n",
      "|         8|        42483|\n",
      "|         9|        40881|\n",
      "|        10|        42065|\n",
      "|        11|        40921|\n",
      "|        12|        42284|\n",
      "+----------+-------------+\n",
      "\n"
     ]
    }
   ],
   "source": [
    "#      Daily/weekly/monthly ride counts.\n",
    "from pyspark.sql.functions import count, date_format, weekofyear, month\n",
    "\n",
    "#Daily ride counts\n",
    "daily_rides = ride_df.groupBy(date_format('pickup_date','yyyy-MM-dd').alias('ride_date')) \\\n",
    "                   .agg(count('ride_id').alias('daily_rides')) \\\n",
    "                   .orderBy('ride_date')\n",
    "daily_rides.show()\n",
    "\n",
    "#Weekly ride counts\n",
    "weekly_rides = ride_df.groupBy(weekofyear('pickup_date').alias('ride_week')) \\\n",
    "                      .agg(count('ride_id').alias('weekly_rides')) \\\n",
    "                      .orderBy('ride_week')\n",
    "weekly_rides.show()\n",
    "\n",
    "#Monthly ride counts\n",
    "monthly_rides = ride_df.groupBy(month('pickup_date').alias('ride_month')) \\\n",
    "                       .agg(count('ride_id').alias('monthly_rides')) \\\n",
    "                       .orderBy('ride_month')\n",
    "monthly_rides.show()"
   ]
  },
  {
   "cell_type": "code",
   "execution_count": 185,
   "id": "acfbb17a-fe02-46c6-b193-ecee57994f12",
   "metadata": {},
   "outputs": [
    {
     "name": "stdout",
     "output_type": "stream",
     "text": [
      "root\n",
      " |-- ride_id: string (nullable = true)\n",
      " |-- driver_id: string (nullable = false)\n",
      " |-- passenger_id: string (nullable = true)\n",
      " |-- city: string (nullable = true)\n",
      " |-- distance_km: float (nullable = true)\n",
      " |-- fare_amount: float (nullable = true)\n",
      " |-- pickup_date: timestamp (nullable = true)\n",
      " |-- dropoff_date: timestamp (nullable = true)\n",
      " |-- trip_duration_sec: long (nullable = true)\n",
      " |-- trip_duration_min: double (nullable = true)\n",
      " |-- fare_per_km: double (nullable = true)\n",
      " |-- tripyear: integer (nullable = true)\n",
      " |-- tripmonth: integer (nullable = true)\n",
      "\n"
     ]
    }
   ],
   "source": [
    "ride_df.printSchema()"
   ]
  },
  {
   "cell_type": "code",
   "execution_count": 186,
   "id": "313b702a-86bc-4267-860c-02cfd9a25bb5",
   "metadata": {},
   "outputs": [
    {
     "name": "stdout",
     "output_type": "stream",
     "text": [
      "+---------+--------------+\n",
      "|driver_id|total_earnings|\n",
      "+---------+--------------+\n",
      "|   others|     323538.78|\n",
      "| a66a2cc1|      35293.14|\n",
      "| 62eb3b89|      34941.77|\n",
      "| 5889c97a|      34762.28|\n",
      "| 643e09ca|      34665.91|\n",
      "| ee060510|      34619.64|\n",
      "| 97d79095|      34498.12|\n",
      "| 6f830ac0|      34483.84|\n",
      "| a7fd7d33|      34406.61|\n",
      "| 1488d85b|      34401.11|\n",
      "| f75cbe43|      34352.77|\n",
      "| 6e1dacfd|      34209.07|\n",
      "| 401310db|      34187.53|\n",
      "| 128eb013|      34091.32|\n",
      "| 452770a2|      34081.95|\n",
      "| daac0508|      34074.51|\n",
      "| d371aa7b|      34035.43|\n",
      "| 97b1b68b|      34004.78|\n",
      "| 3eb7f5fd|       33997.9|\n",
      "| a2f1968a|      33960.51|\n",
      "+---------+--------------+\n",
      "only showing top 20 rows\n",
      "\n"
     ]
    }
   ],
   "source": [
    "#  Top drivers by earnings.\n",
    "from pyspark.sql.functions import sum, col\n",
    "\n",
    "Top_drivers = ride_df.groupBy('driver_id') \\\n",
    "                     .agg(round(sum('fare_amount'), 2).alias('total_earnings')) \\\n",
    "                     .orderBy('total_earnings', ascending = False)\n",
    "Top_drivers.show()"
   ]
  },
  {
   "cell_type": "code",
   "execution_count": 187,
   "id": "bd2079b7-5bc1-488b-90dd-556445acf788",
   "metadata": {},
   "outputs": [
    {
     "name": "stdout",
     "output_type": "stream",
     "text": [
      "+---------+-----------------+\n",
      "|     city|avg_trip_duration|\n",
      "+---------+-----------------+\n",
      "| Winnipeg|            32.05|\n",
      "|   Ottawa|            31.92|\n",
      "| Montreal|             32.0|\n",
      "|  Toronto|            31.91|\n",
      "|Vancouver|            31.91|\n",
      "| Edmonton|            31.92|\n",
      "|  Calgary|            31.99|\n",
      "|  Halifax|            31.99|\n",
      "+---------+-----------------+\n",
      "\n"
     ]
    }
   ],
   "source": [
    "#  Average trip duration per city.\n",
    "from pyspark.sql.functions import avg\n",
    "\n",
    "Average_tripduration_per_city = ride_df.groupBy('city').agg(round(avg('trip_duration_min'), 2).alias('avg_trip_duration'))\n",
    "\n",
    "Average_tripduration_per_city.show() "
   ]
  },
  {
   "cell_type": "code",
   "execution_count": 188,
   "id": "172e14b9-780b-44e5-ad81-21b0f657b351",
   "metadata": {},
   "outputs": [
    {
     "name": "stdout",
     "output_type": "stream",
     "text": [
      "+----------+-------------+\n",
      "| ride_date|total_revenue|\n",
      "+----------+-------------+\n",
      "|2024-01-01|     43623.16|\n",
      "|2024-01-02|     42830.35|\n",
      "|2024-01-03|     44969.53|\n",
      "|2024-01-04|     43228.74|\n",
      "|2024-01-05|     44248.02|\n",
      "|2024-01-06|      41425.3|\n",
      "|2024-01-07|      45013.9|\n",
      "|2024-01-08|     43579.62|\n",
      "|2024-01-09|      42410.8|\n",
      "|2024-01-10|     43798.89|\n",
      "|2024-01-11|     43875.59|\n",
      "|2024-01-12|     43983.61|\n",
      "|2024-01-13|      43692.9|\n",
      "|2024-01-14|     42990.69|\n",
      "|2024-01-15|     45603.84|\n",
      "|2024-01-16|     45204.25|\n",
      "|2024-01-17|     44875.96|\n",
      "|2024-01-18|     46827.08|\n",
      "|2024-01-19|     42503.72|\n",
      "|2024-01-20|      44722.5|\n",
      "+----------+-------------+\n",
      "only showing top 20 rows\n",
      "\n",
      "+---------+-------------+\n",
      "|ride_week|total_revenue|\n",
      "+---------+-------------+\n",
      "|        1|    395423.18|\n",
      "|        2|     304332.1|\n",
      "|        3|    316309.65|\n",
      "|        4|    308259.41|\n",
      "|        5|    304103.25|\n",
      "|        6|    303958.21|\n",
      "|        7|    304959.02|\n",
      "|        8|    306849.53|\n",
      "|        9|    311197.62|\n",
      "|       10|    316376.71|\n",
      "|       11|    309377.68|\n",
      "|       12|    311599.45|\n",
      "|       13|     312898.2|\n",
      "|       14|    321469.74|\n",
      "|       15|    314816.28|\n",
      "|       16|    308627.13|\n",
      "|       17|    310091.98|\n",
      "|       18|    315832.76|\n",
      "|       19|    312958.65|\n",
      "|       20|     314875.1|\n",
      "+---------+-------------+\n",
      "only showing top 20 rows\n",
      "\n",
      "+----------+-------------+\n",
      "|ride_month|total_revenue|\n",
      "+----------+-------------+\n",
      "|         1|   1364831.75|\n",
      "|         2|   1267525.33|\n",
      "|         3|   1383202.75|\n",
      "|         4|   1344653.64|\n",
      "|         5|   1382592.85|\n",
      "|         6|   1331614.85|\n",
      "|         7|   1357887.09|\n",
      "|         8|   1375461.36|\n",
      "|         9|   1323583.16|\n",
      "|        10|   1354599.32|\n",
      "|        11|   1325766.19|\n",
      "|        12|    1371126.8|\n",
      "+----------+-------------+\n",
      "\n"
     ]
    }
   ],
   "source": [
    "#  Revenue trends over time. \n",
    "\n",
    "from pyspark.sql.functions import sum, date_format, weekofyear\n",
    "\n",
    "# Aggregate revenue by day\n",
    "daily_revenue = ride_df.groupBy(date_format(col('pickup_date'),'yyyy-MM-dd').alias('ride_date')) \\\n",
    "                       .agg(round(sum('fare_amount'), 2).alias('total_revenue')) \\\n",
    "                       .orderBy('ride_date')\n",
    "\n",
    "daily_revenue.show()\n",
    "\n",
    "\n",
    "# Aggregate revenue by week\n",
    "weekly_revenue = ride_df.groupBy(weekofyear('pickup_date').alias('ride_week')) \\\n",
    "                        .agg(round(sum('fare_amount'), 2).alias('total_revenue')) \\\n",
    "                        .orderBy('ride_week')\n",
    "weekly_revenue.show()\n",
    "\n",
    "# Aggregate revenue by month\n",
    "monthly_revenue = ride_df.groupBy(month('pickup_date').alias('ride_month')) \\\n",
    "                         .agg(round(sum('fare_amount'), 2).alias('total_revenue')) \\\n",
    "                         .orderBy('ride_month')\n",
    "monthly_revenue.show()"
   ]
  },
  {
   "cell_type": "markdown",
   "id": "f4a55581-906a-4944-9e00-12f8b986620d",
   "metadata": {},
   "source": [
    "#### 5. Data Visualization \n",
    "##### Use Pandas & Matplotlib, Image exports, HTML or Streamlit to create: \n",
    "###### o Line charts for ride trends. \n",
    "###### o Bar charts for top-performing drivers. \n",
    "###### o Heatmaps of peak ride hours."
   ]
  },
  {
   "cell_type": "code",
   "execution_count": 189,
   "id": "8355c956-2d05-4f9c-bd45-b5ad15c2e9c3",
   "metadata": {},
   "outputs": [
    {
     "data": {
      "image/png": "[encoded data removed]",
      "text/plain": [
       "<Figure size 1200x600 with 1 Axes>"
      ]
     },
     "metadata": {},
     "output_type": "display_data"
    }
   ],
   "source": [
    "import matplotlib.pyplot as plt\n",
    "import pandas as pd\n",
    "\n",
    "# Convert PySpark DataFrame to Pandas\n",
    "ride_trends_df_pd = ride_df.groupBy(date_format('pickup_date','yyyy-MM-dd').alias('ride_date')) \\\n",
    "                   .agg(count('ride_id').alias('daily_rides')) \\\n",
    "                   .orderBy('ride_date').limit(30).toPandas()\n",
    "\n",
    "# Plot line chart\n",
    "plt.figure(figsize=(12, 6))\n",
    "plt.plot(ride_trends_df_pd[\"ride_date\"], ride_trends_df_pd[\"daily_rides\"], marker='o', linestyle='-', color='b')\n",
    "plt.xlabel(\"Ride_Date\")\n",
    "plt.ylabel(\"Number of Rides\")\n",
    "plt.title(\"Daily Ride Trends\")\n",
    "plt.xticks(rotation=45)\n",
    "plt.grid()\n",
    "plt.show()\n"
   ]
  },
  {
   "cell_type": "code",
   "execution_count": 190,
   "id": "366f9838-fb82-42bd-a8b0-9ed12fed7cdf",
   "metadata": {},
   "outputs": [
    {
     "data": {
      "image/png": "[encoded data removed]",
      "text/plain": [
       "<Figure size 1200x600 with 1 Axes>"
      ]
     },
     "metadata": {},
     "output_type": "display_data"
    }
   ],
   "source": [
    "import matplotlib.pyplot as plt\n",
    "import pandas as pd\n",
    "from pyspark.sql.functions import sum, col, round\n",
    "\n",
    "# Convert PySpark DataFrame to Pandas\n",
    "top_drivers_df_pd = ride_df.groupBy('driver_id') \\\n",
    "                     .agg(round(sum('fare_amount'), 2).alias('total_earnings')) \\\n",
    "                     .orderBy('total_earnings', ascending = False).limit(10).toPandas()\n",
    "#Plot the bar chart\n",
    "plt.figure(figsize=(12, 6))\n",
    "plt.bar(top_drivers_df_pd[\"driver_id\"].astype(str), top_drivers_df_pd[\"total_earnings\"], color='yellow')\n",
    "plt.xlabel(\"Driver ID\")\n",
    "plt.ylabel(\"Total Earnings\")\n",
    "plt.title(\"Top 10 Performing Drivers\")\n",
    "plt.xticks(rotation=45)\n",
    "plt.grid(axis=\"y\")\n",
    "plt.show()"
   ]
  },
  {
   "cell_type": "code",
   "execution_count": 191,
   "id": "9a46bdb7-2770-479d-aab4-a8db58fb9a9c",
   "metadata": {},
   "outputs": [
    {
     "data": {
      "image/png": "[encoded data removed]",
      "text/plain": [
       "<Figure size 1200x600 with 2 Axes>"
      ]
     },
     "metadata": {},
     "output_type": "display_data"
    }
   ],
   "source": [
    "from pyspark.sql.functions import hour, col\n",
    "import seaborn as sns\n",
    "\n",
    "\n",
    "# Extract hour from pickup time\n",
    "ride_hr_df = ride_df.withColumn(\"hour\", hour(col(\"pickup_date\")))\n",
    "\n",
    "# Group by hour and count rides\n",
    "hourly_rides_df = ride_hr_df.groupBy(\"hour\").count().toPandas()\n",
    "\n",
    "# Set index for pivot\n",
    "hourly_rides_pivot = hourly_rides_df.set_index(\"hour\")\n",
    "\n",
    "# Plot heatmap\n",
    "plt.figure(figsize=(12, 6))\n",
    "sns.heatmap(hourly_rides_pivot, cmap=\"coolwarm\", annot=True, fmt=\"d\")\n",
    "plt.xlabel(\"Hour of Day\")\n",
    "plt.ylabel(\"Ride Count\")\n",
    "plt.title(\"Heatmap of Peak Ride Hours\")\n",
    "plt.show()\n"
   ]
  },
  {
   "cell_type": "code",
   "execution_count": 192,
   "id": "9898307a-2b6e-42e2-b297-45014eb06516",
   "metadata": {},
   "outputs": [
    {
     "name": "stdout",
     "output_type": "stream",
     "text": [
      "Requirement already satisfied: folium in c:\\users\\lovette\\sparktests\\sparkdf\\venv\\lib\\site-packages (0.19.4)\n",
      "Requirement already satisfied: branca>=0.6.0 in c:\\users\\lovette\\sparktests\\sparkdf\\venv\\lib\\site-packages (from folium) (0.8.1)\n",
      "Requirement already satisfied: jinja2>=2.9 in c:\\users\\lovette\\sparktests\\sparkdf\\venv\\lib\\site-packages (from folium) (3.1.5)\n",
      "Requirement already satisfied: numpy in c:\\users\\lovette\\sparktests\\sparkdf\\venv\\lib\\site-packages (from folium) (2.2.2)\n",
      "Requirement already satisfied: requests in c:\\users\\lovette\\sparktests\\sparkdf\\venv\\lib\\site-packages (from folium) (2.32.3)\n",
      "Requirement already satisfied: xyzservices in c:\\users\\lovette\\sparktests\\sparkdf\\venv\\lib\\site-packages (from folium) (2025.1.0)\n",
      "Requirement already satisfied: MarkupSafe>=2.0 in c:\\users\\lovette\\sparktests\\sparkdf\\venv\\lib\\site-packages (from jinja2>=2.9->folium) (3.0.2)\n",
      "Requirement already satisfied: charset-normalizer<4,>=2 in c:\\users\\lovette\\sparktests\\sparkdf\\venv\\lib\\site-packages (from requests->folium) (3.4.1)\n",
      "Requirement already satisfied: idna<4,>=2.5 in c:\\users\\lovette\\sparktests\\sparkdf\\venv\\lib\\site-packages (from requests->folium) (3.10)\n",
      "Requirement already satisfied: urllib3<3,>=1.21.1 in c:\\users\\lovette\\sparktests\\sparkdf\\venv\\lib\\site-packages (from requests->folium) (2.3.0)\n",
      "Requirement already satisfied: certifi>=2017.4.17 in c:\\users\\lovette\\sparktests\\sparkdf\\venv\\lib\\site-packages (from requests->folium) (2025.1.31)\n"
     ]
    },
    {
     "name": "stderr",
     "output_type": "stream",
     "text": [
      "\n",
      "[notice] A new release of pip is available: 24.0 -> 25.0.1\n",
      "[notice] To update, run: python.exe -m pip install --upgrade pip\n"
     ]
    }
   ],
   "source": [
    "! pip install folium"
   ]
  },
  {
   "cell_type": "code",
   "execution_count": 193,
   "id": "e8282bf9-9cdc-4d1f-a49a-64bf9ba458f2",
   "metadata": {},
   "outputs": [
    {
     "name": "stdout",
     "output_type": "stream",
     "text": [
      "Requirement already satisfied: geopy in c:\\users\\lovette\\sparktests\\sparkdf\\venv\\lib\\site-packages (2.4.1)\n",
      "Requirement already satisfied: geographiclib<3,>=1.52 in c:\\users\\lovette\\sparktests\\sparkdf\\venv\\lib\\site-packages (from geopy) (2.0)\n"
     ]
    },
    {
     "name": "stderr",
     "output_type": "stream",
     "text": [
      "\n",
      "[notice] A new release of pip is available: 24.0 -> 25.0.1\n",
      "[notice] To update, run: python.exe -m pip install --upgrade pip\n"
     ]
    }
   ],
   "source": [
    "! pip install geopy"
   ]
  },
  {
   "cell_type": "code",
   "execution_count": 195,
   "id": "de0b7a72-8552-49a1-84e8-21cb1cd6745a",
   "metadata": {},
   "outputs": [],
   "source": [
    "#Number of rides on a map in each province in canada. using folium and geo py"
   ]
  },
  {
   "cell_type": "code",
   "execution_count": 196,
   "id": "bdd86a09-9730-4f75-8abf-f363993e400c",
   "metadata": {},
   "outputs": [
    {
     "name": "stdout",
     "output_type": "stream",
     "text": [
      "+---------+\n",
      "|     city|\n",
      "+---------+\n",
      "| Winnipeg|\n",
      "|   Ottawa|\n",
      "| Montreal|\n",
      "|  Toronto|\n",
      "|Vancouver|\n",
      "| Edmonton|\n",
      "|  Calgary|\n",
      "|  Halifax|\n",
      "+---------+\n",
      "\n"
     ]
    }
   ],
   "source": [
    "ride_df.select(\"city\").distinct().show()"
   ]
  },
  {
   "cell_type": "code",
   "execution_count": 197,
   "id": "dd431814-9acc-4059-ab6c-70a71cb048a3",
   "metadata": {},
   "outputs": [
    {
     "name": "stdout",
     "output_type": "stream",
     "text": [
      "+---------+----------------+\n",
      "|     city|        province|\n",
      "+---------+----------------+\n",
      "|   Ottawa|         Ontario|\n",
      "| Montreal|          Quebec|\n",
      "| Montreal|          Quebec|\n",
      "|  Halifax|     Nova Scotia|\n",
      "| Edmonton|         Alberta|\n",
      "|   Ottawa|         Ontario|\n",
      "| Winnipeg|         Unknown|\n",
      "| Edmonton|         Alberta|\n",
      "|   Ottawa|         Ontario|\n",
      "|  Toronto|         Ontario|\n",
      "|  Calgary|         Alberta|\n",
      "|  Halifax|     Nova Scotia|\n",
      "| Edmonton|         Alberta|\n",
      "| Edmonton|         Alberta|\n",
      "|  Toronto|         Ontario|\n",
      "| Winnipeg|         Unknown|\n",
      "| Edmonton|         Alberta|\n",
      "|  Toronto|         Ontario|\n",
      "|Vancouver|British Columbia|\n",
      "|  Halifax|     Nova Scotia|\n",
      "+---------+----------------+\n",
      "only showing top 20 rows\n",
      "\n",
      "+--------+---------+------------+---------+-----------+-----------+-------------------+-------------------+-----------------+-----------------+-----------+--------+---------+----------------+\n",
      "| ride_id|driver_id|passenger_id|     city|distance_km|fare_amount|        pickup_date|       dropoff_date|trip_duration_sec|trip_duration_min|fare_per_km|tripyear|tripmonth|        province|\n",
      "+--------+---------+------------+---------+-----------+-----------+-------------------+-------------------+-----------------+-----------------+-----------+--------+---------+----------------+\n",
      "|c316e38f| a7fd7d33|    b45c40aa|   Ottawa|      27.92|      69.38|2024-07-24 01:54:00|2024-07-24 02:49:00|             3300|             55.0|       2.48|    2024|        7|         Ontario|\n",
      "|c1949764| aa9446f3|    7eb56af9| Montreal|       8.99|      19.95|2024-05-24 02:22:00|2024-05-24 02:35:00|              780|             13.0|       2.22|    2024|        5|          Quebec|\n",
      "|3f500b60| 3e83bc70|    da010c6c| Montreal|      19.49|       31.7|2024-12-06 21:51:00|2024-12-06 22:14:00|             1380|             23.0|       1.63|    2024|       12|          Quebec|\n",
      "|70ea96dd| 4cceab04|    8fa1dfd0|  Halifax|       9.04|      25.75|2024-05-27 03:47:00|2024-05-27 04:26:00|             2340|             39.0|       2.85|    2024|        5|     Nova Scotia|\n",
      "|474ef781| c5385398|    a7d49d3e| Edmonton|      19.97|      51.45|2024-04-10 11:35:00|2024-04-10 12:02:00|             1620|             27.0|       2.58|    2024|        4|         Alberta|\n",
      "|3bad8ed3| 5827120c|    2288a9bf|   Ottawa|      12.21|      26.62|2024-09-22 09:59:00|2024-09-22 10:25:00|             1560|             26.0|       2.18|    2024|        9|         Ontario|\n",
      "|68c29089| 73a943b2|    0caaa19a| Winnipeg|      15.48|      36.78|2024-04-12 14:16:00|2024-04-12 14:31:00|              900|             15.0|       2.38|    2024|        4|         Unknown|\n",
      "|95b94876| 002b9b24|    09b1a123| Edmonton|      26.91|      91.74|2024-08-20 14:31:00|2024-08-20 15:28:00|             3420|             57.0|       3.41|    2024|        8|         Alberta|\n",
      "|1aec6419| 97b1b68b|    3b2e03e5|   Ottawa|      11.89|      24.25|2024-10-21 13:00:00|2024-10-21 13:33:00|             1980|             33.0|       2.04|    2024|       10|         Ontario|\n",
      "|08e643b3| 6131fd26|    9c91fcb6|  Toronto|       3.51|       5.31|2024-07-20 14:08:00|2024-07-20 14:17:00|              540|              9.0|       1.51|    2024|        7|         Ontario|\n",
      "|2e95377d| 2e8fad85|    188dd6ff|  Calgary|      25.04|      61.65|2024-08-05 16:58:00|2024-08-05 17:31:00|             1980|             33.0|       2.46|    2024|        8|         Alberta|\n",
      "|970d4aa8| e331f871|    f759c446|  Halifax|       1.49|       5.01|2024-10-05 22:17:00|2024-10-05 22:28:00|              660|             11.0|       3.36|    2024|       10|     Nova Scotia|\n",
      "|e4ef7306| 5f35135c|    7ec9c9d4| Edmonton|       2.11|       4.22|2024-06-02 08:45:00|2024-06-02 09:05:00|             1200|             20.0|        2.0|    2024|        6|         Alberta|\n",
      "|f2a3389c| 621114e3|    b533694a| Edmonton|       2.51|       7.54|2024-08-22 03:42:00|2024-08-22 03:55:00|              780|             13.0|        3.0|    2024|        8|         Alberta|\n",
      "|996db9c5| a916d5b6|    14bf9c2d|  Toronto|      16.22|      25.48|2024-07-16 15:47:00|2024-07-16 16:22:00|             2100|             35.0|       1.57|    2024|        7|         Ontario|\n",
      "|646a678a| 5978e358|    c7ed5f72| Winnipeg|       0.73|       2.41|2024-09-01 10:06:00|2024-09-01 10:18:00|              720|             12.0|        3.3|    2024|        9|         Unknown|\n",
      "|cd26d117| f4baba8e|    25adf562| Edmonton|       1.61|       5.38|2024-01-16 08:12:00|2024-01-16 08:30:00|             1080|             18.0|       3.34|    2024|        1|         Alberta|\n",
      "|e6ec43e5| d65421ca|    99ba568d|  Toronto|      19.41|      66.03|2024-02-09 00:36:00|2024-02-09 01:24:00|             2880|             48.0|        3.4|    2024|        2|         Ontario|\n",
      "|42454d74| c36ec30d|    5e333542|Vancouver|      15.33|      26.34|2024-03-18 22:02:00|2024-03-18 22:14:00|              720|             12.0|       1.72|    2024|        3|British Columbia|\n",
      "|c7f2c91f| 0bbbf07e|    5a63248d|  Halifax|       0.28|       0.49|2024-05-29 03:38:00|2024-05-29 03:52:00|              840|             14.0|       1.75|    2024|        5|     Nova Scotia|\n",
      "+--------+---------+------------+---------+-----------+-----------+-------------------+-------------------+-----------------+-----------------+-----------+--------+---------+----------------+\n",
      "only showing top 20 rows\n",
      "\n"
     ]
    }
   ],
   "source": [
    "from pyspark.sql.functions import when, col\n",
    "\n",
    "# Define city-to-province mapping\n",
    "ride_df = ride_df.withColumn(\n",
    "    \"province\",\n",
    "    when(col(\"city\") == \"Toronto\", \"Ontario\")\n",
    "    .when(col(\"city\") == \"Vancouver\", \"British Columbia\")\n",
    "    .when(col(\"city\") == \"Calgary\", \"Alberta\")\n",
    "    .when(col(\"city\") == \"Montreal\", \"Quebec\")\n",
    "    .when(col(\"city\") == \"Edmonton\", \"Alberta\")\n",
    "    .when(col(\"city\") == \"Ottawa\", \"Ontario\")\n",
    "    .when(col(\"city\") == \"Halifax\", \"Nova Scotia\")\n",
    "    .otherwise(\"Unknown\")  # Default value if the city is not in the list\n",
    ")\n",
    "\n",
    "# Show result\n",
    "ride_df.select(\"city\", \"province\").show()\n",
    "\n",
    "ride_df.show()"
   ]
  },
  {
   "cell_type": "code",
   "execution_count": 198,
   "id": "c72b420c-0ac7-4c47-a129-3ac268d3a174",
   "metadata": {},
   "outputs": [
    {
     "name": "stdout",
     "output_type": "stream",
     "text": [
      "+---------+----------------+----------+\n",
      "|     city|        province|ride_count|\n",
      "+---------+----------------+----------+\n",
      "|   Ottawa|         Ontario|     62469|\n",
      "|  Halifax|     Nova Scotia|     62959|\n",
      "| Winnipeg|         Unknown|     62379|\n",
      "| Edmonton|         Alberta|     62697|\n",
      "|  Toronto|         Ontario|     62092|\n",
      "|  Calgary|         Alberta|     62773|\n",
      "|Vancouver|British Columbia|     62599|\n",
      "| Montreal|          Quebec|     62032|\n",
      "+---------+----------------+----------+\n",
      "\n"
     ]
    }
   ],
   "source": [
    "ride_df.groupBy(\"city\", \"province\").agg(count(\"*\").alias(\"ride_count\")).show()"
   ]
  },
  {
   "cell_type": "code",
   "execution_count": 199,
   "id": "ec726fe8-2591-4521-8e19-d48d4a6bc6f8",
   "metadata": {},
   "outputs": [
    {
     "data": {
      "text/html": [
       "<div style=\"width:100%;\"><div style=\"position:relative;width:100%;height:0;padding-bottom:60%;\"><span style=\"color:#565656\">Make this Notebook Trusted to load map: File -> Trust Notebook</span><iframe srcdoc=\"&lt;!DOCTYPE html&gt;\n",
       "&lt;html&gt;\n",
       "&lt;head&gt;\n",
       "    \n",
       "    &lt;meta http-equiv=&quot;content-type&quot; content=&quot;text/html; charset=UTF-8&quot; /&gt;\n",
       "    \n",
       "        &lt;script&gt;\n",
       "            L_NO_TOUCH = false;\n",
       "            L_DISABLE_3D = false;\n",
       "        &lt;/script&gt;\n",
       "    \n",
       "    &lt;style&gt;html, body {width: 100%;height: 100%;margin: 0;padding: 0;}&lt;/style&gt;\n",
       "    &lt;style&gt;#map {position:absolute;top:0;bottom:0;right:0;left:0;}&lt;/style&gt;\n",
       "    &lt;script src=&quot;https://cdn.jsdelivr.net/npm/leaflet@1.9.3/dist/leaflet.js&quot;&gt;&lt;/script&gt;\n",
       "    &lt;script src=&quot;https://code.jquery.com/jquery-3.7.1.min.js&quot;&gt;&lt;/script&gt;\n",
       "    &lt;script src=&quot;https://cdn.jsdelivr.net/npm/bootstrap@5.2.2/dist/js/bootstrap.bundle.min.js&quot;&gt;&lt;/script&gt;\n",
       "    &lt;script src=&quot;https://cdnjs.cloudflare.com/ajax/libs/Leaflet.awesome-markers/2.0.2/leaflet.awesome-markers.js&quot;&gt;&lt;/script&gt;\n",
       "    &lt;link rel=&quot;stylesheet&quot; href=&quot;https://cdn.jsdelivr.net/npm/leaflet@1.9.3/dist/leaflet.css&quot;/&gt;\n",
       "    &lt;link rel=&quot;stylesheet&quot; href=&quot;https://cdn.jsdelivr.net/npm/bootstrap@5.2.2/dist/css/bootstrap.min.css&quot;/&gt;\n",
       "    &lt;link rel=&quot;stylesheet&quot; href=&quot;https://netdna.bootstrapcdn.com/bootstrap/3.0.0/css/bootstrap-glyphicons.css&quot;/&gt;\n",
       "    &lt;link rel=&quot;stylesheet&quot; href=&quot;https://cdn.jsdelivr.net/npm/@fortawesome/fontawesome-free@6.2.0/css/all.min.css&quot;/&gt;\n",
       "    &lt;link rel=&quot;stylesheet&quot; href=&quot;https://cdnjs.cloudflare.com/ajax/libs/Leaflet.awesome-markers/2.0.2/leaflet.awesome-markers.css&quot;/&gt;\n",
       "    &lt;link rel=&quot;stylesheet&quot; href=&quot;https://cdn.jsdelivr.net/gh/python-visualization/folium/folium/templates/leaflet.awesome.rotate.min.css&quot;/&gt;\n",
       "    \n",
       "            &lt;meta name=&quot;viewport&quot; content=&quot;width=device-width,\n",
       "                initial-scale=1.0, maximum-scale=1.0, user-scalable=no&quot; /&gt;\n",
       "            &lt;style&gt;\n",
       "                #map_435aa208be24dc43ef6e997bb99b6bd2 {\n",
       "                    position: relative;\n",
       "                    width: 100.0%;\n",
       "                    height: 100.0%;\n",
       "                    left: 0.0%;\n",
       "                    top: 0.0%;\n",
       "                }\n",
       "                .leaflet-container { font-size: 1rem; }\n",
       "            &lt;/style&gt;\n",
       "        \n",
       "&lt;/head&gt;\n",
       "&lt;body&gt;\n",
       "    \n",
       "    \n",
       "            &lt;div class=&quot;folium-map&quot; id=&quot;map_435aa208be24dc43ef6e997bb99b6bd2&quot; &gt;&lt;/div&gt;\n",
       "        \n",
       "&lt;/body&gt;\n",
       "&lt;script&gt;\n",
       "    \n",
       "    \n",
       "            var map_435aa208be24dc43ef6e997bb99b6bd2 = L.map(\n",
       "                &quot;map_435aa208be24dc43ef6e997bb99b6bd2&quot;,\n",
       "                {\n",
       "                    center: [56.1304, -106.3468],\n",
       "                    crs: L.CRS.EPSG3857,\n",
       "                    ...{\n",
       "  &quot;zoom&quot;: 4,\n",
       "  &quot;zoomControl&quot;: true,\n",
       "  &quot;preferCanvas&quot;: false,\n",
       "}\n",
       "\n",
       "                }\n",
       "            );\n",
       "\n",
       "            \n",
       "\n",
       "        \n",
       "    \n",
       "            var tile_layer_b775b9bff732abd861a51822004ebaed = L.tileLayer(\n",
       "                &quot;https://tile.openstreetmap.org/{z}/{x}/{y}.png&quot;,\n",
       "                {\n",
       "  &quot;minZoom&quot;: 0,\n",
       "  &quot;maxZoom&quot;: 19,\n",
       "  &quot;maxNativeZoom&quot;: 19,\n",
       "  &quot;noWrap&quot;: false,\n",
       "  &quot;attribution&quot;: &quot;\\u0026copy; \\u003ca href=\\&quot;https://www.openstreetmap.org/copyright\\&quot;\\u003eOpenStreetMap\\u003c/a\\u003e contributors&quot;,\n",
       "  &quot;subdomains&quot;: &quot;abc&quot;,\n",
       "  &quot;detectRetina&quot;: false,\n",
       "  &quot;tms&quot;: false,\n",
       "  &quot;opacity&quot;: 1,\n",
       "}\n",
       "\n",
       "            );\n",
       "        \n",
       "    \n",
       "            tile_layer_b775b9bff732abd861a51822004ebaed.addTo(map_435aa208be24dc43ef6e997bb99b6bd2);\n",
       "        \n",
       "    \n",
       "            var circle_marker_6bc2c9e2df7623841a47faa1fa4fcd7c = L.circleMarker(\n",
       "                [45.4208777, -75.6901106],\n",
       "                {&quot;bubblingMouseEvents&quot;: true, &quot;color&quot;: &quot;blue&quot;, &quot;dashArray&quot;: null, &quot;dashOffset&quot;: null, &quot;fill&quot;: true, &quot;fillColor&quot;: &quot;blue&quot;, &quot;fillOpacity&quot;: 0.6, &quot;fillRule&quot;: &quot;evenodd&quot;, &quot;lineCap&quot;: &quot;round&quot;, &quot;lineJoin&quot;: &quot;round&quot;, &quot;opacity&quot;: 1.0, &quot;radius&quot;: 15, &quot;stroke&quot;: true, &quot;weight&quot;: 3}\n",
       "            ).addTo(map_435aa208be24dc43ef6e997bb99b6bd2);\n",
       "        \n",
       "    \n",
       "        var popup_098a414515f6fd1f438a8af90902bef0 = L.popup({\n",
       "  &quot;maxWidth&quot;: &quot;100%&quot;,\n",
       "});\n",
       "\n",
       "        \n",
       "            \n",
       "                var html_b1890f8a22a3e3ef5f87d60900063d30 = $(`&lt;div id=&quot;html_b1890f8a22a3e3ef5f87d60900063d30&quot; style=&quot;width: 100.0%; height: 100.0%;&quot;&gt;Ottawa, Ontario: 62469 rides&lt;/div&gt;`)[0];\n",
       "                popup_098a414515f6fd1f438a8af90902bef0.setContent(html_b1890f8a22a3e3ef5f87d60900063d30);\n",
       "            \n",
       "        \n",
       "\n",
       "        circle_marker_6bc2c9e2df7623841a47faa1fa4fcd7c.bindPopup(popup_098a414515f6fd1f438a8af90902bef0)\n",
       "        ;\n",
       "\n",
       "        \n",
       "    \n",
       "    \n",
       "            var circle_marker_73ce14d49a6e0c3508ff225cfc10af33 = L.circleMarker(\n",
       "                [44.648618, -63.5859487],\n",
       "                {&quot;bubblingMouseEvents&quot;: true, &quot;color&quot;: &quot;blue&quot;, &quot;dashArray&quot;: null, &quot;dashOffset&quot;: null, &quot;fill&quot;: true, &quot;fillColor&quot;: &quot;blue&quot;, &quot;fillOpacity&quot;: 0.6, &quot;fillRule&quot;: &quot;evenodd&quot;, &quot;lineCap&quot;: &quot;round&quot;, &quot;lineJoin&quot;: &quot;round&quot;, &quot;opacity&quot;: 1.0, &quot;radius&quot;: 15, &quot;stroke&quot;: true, &quot;weight&quot;: 3}\n",
       "            ).addTo(map_435aa208be24dc43ef6e997bb99b6bd2);\n",
       "        \n",
       "    \n",
       "        var popup_f9044b6c95049e5dd2195342d2c8482e = L.popup({\n",
       "  &quot;maxWidth&quot;: &quot;100%&quot;,\n",
       "});\n",
       "\n",
       "        \n",
       "            \n",
       "                var html_8b1224b98923725515061ebb5f8e4707 = $(`&lt;div id=&quot;html_8b1224b98923725515061ebb5f8e4707&quot; style=&quot;width: 100.0%; height: 100.0%;&quot;&gt;Halifax, Nova Scotia: 62959 rides&lt;/div&gt;`)[0];\n",
       "                popup_f9044b6c95049e5dd2195342d2c8482e.setContent(html_8b1224b98923725515061ebb5f8e4707);\n",
       "            \n",
       "        \n",
       "\n",
       "        circle_marker_73ce14d49a6e0c3508ff225cfc10af33.bindPopup(popup_f9044b6c95049e5dd2195342d2c8482e)\n",
       "        ;\n",
       "\n",
       "        \n",
       "    \n",
       "    \n",
       "            var circle_marker_10c1e7f4e64a8823ec787cd005ac07f2 = L.circleMarker(\n",
       "                [53.5462055, -113.491241],\n",
       "                {&quot;bubblingMouseEvents&quot;: true, &quot;color&quot;: &quot;blue&quot;, &quot;dashArray&quot;: null, &quot;dashOffset&quot;: null, &quot;fill&quot;: true, &quot;fillColor&quot;: &quot;blue&quot;, &quot;fillOpacity&quot;: 0.6, &quot;fillRule&quot;: &quot;evenodd&quot;, &quot;lineCap&quot;: &quot;round&quot;, &quot;lineJoin&quot;: &quot;round&quot;, &quot;opacity&quot;: 1.0, &quot;radius&quot;: 15, &quot;stroke&quot;: true, &quot;weight&quot;: 3}\n",
       "            ).addTo(map_435aa208be24dc43ef6e997bb99b6bd2);\n",
       "        \n",
       "    \n",
       "        var popup_394ec618d49a3cc6e592cfbcb023f42f = L.popup({\n",
       "  &quot;maxWidth&quot;: &quot;100%&quot;,\n",
       "});\n",
       "\n",
       "        \n",
       "            \n",
       "                var html_725487ea116c9d7858bd8129d8337604 = $(`&lt;div id=&quot;html_725487ea116c9d7858bd8129d8337604&quot; style=&quot;width: 100.0%; height: 100.0%;&quot;&gt;Edmonton, Alberta: 62697 rides&lt;/div&gt;`)[0];\n",
       "                popup_394ec618d49a3cc6e592cfbcb023f42f.setContent(html_725487ea116c9d7858bd8129d8337604);\n",
       "            \n",
       "        \n",
       "\n",
       "        circle_marker_10c1e7f4e64a8823ec787cd005ac07f2.bindPopup(popup_394ec618d49a3cc6e592cfbcb023f42f)\n",
       "        ;\n",
       "\n",
       "        \n",
       "    \n",
       "    \n",
       "            var circle_marker_cee992a86c73d1f8c6c2f70ea5d5e685 = L.circleMarker(\n",
       "                [51.0456064, -114.057541],\n",
       "                {&quot;bubblingMouseEvents&quot;: true, &quot;color&quot;: &quot;blue&quot;, &quot;dashArray&quot;: null, &quot;dashOffset&quot;: null, &quot;fill&quot;: true, &quot;fillColor&quot;: &quot;blue&quot;, &quot;fillOpacity&quot;: 0.6, &quot;fillRule&quot;: &quot;evenodd&quot;, &quot;lineCap&quot;: &quot;round&quot;, &quot;lineJoin&quot;: &quot;round&quot;, &quot;opacity&quot;: 1.0, &quot;radius&quot;: 15, &quot;stroke&quot;: true, &quot;weight&quot;: 3}\n",
       "            ).addTo(map_435aa208be24dc43ef6e997bb99b6bd2);\n",
       "        \n",
       "    \n",
       "        var popup_bdad248ec6f69d1a44e877fe6fbadd94 = L.popup({\n",
       "  &quot;maxWidth&quot;: &quot;100%&quot;,\n",
       "});\n",
       "\n",
       "        \n",
       "            \n",
       "                var html_82113e84ede4ef83ba1e2a9571a091f2 = $(`&lt;div id=&quot;html_82113e84ede4ef83ba1e2a9571a091f2&quot; style=&quot;width: 100.0%; height: 100.0%;&quot;&gt;Calgary, Alberta: 62773 rides&lt;/div&gt;`)[0];\n",
       "                popup_bdad248ec6f69d1a44e877fe6fbadd94.setContent(html_82113e84ede4ef83ba1e2a9571a091f2);\n",
       "            \n",
       "        \n",
       "\n",
       "        circle_marker_cee992a86c73d1f8c6c2f70ea5d5e685.bindPopup(popup_bdad248ec6f69d1a44e877fe6fbadd94)\n",
       "        ;\n",
       "\n",
       "        \n",
       "    \n",
       "    \n",
       "            var circle_marker_390b010427cdd96d44ba2aa1f8c7cfa0 = L.circleMarker(\n",
       "                [49.2608724, -123.113952],\n",
       "                {&quot;bubblingMouseEvents&quot;: true, &quot;color&quot;: &quot;blue&quot;, &quot;dashArray&quot;: null, &quot;dashOffset&quot;: null, &quot;fill&quot;: true, &quot;fillColor&quot;: &quot;blue&quot;, &quot;fillOpacity&quot;: 0.6, &quot;fillRule&quot;: &quot;evenodd&quot;, &quot;lineCap&quot;: &quot;round&quot;, &quot;lineJoin&quot;: &quot;round&quot;, &quot;opacity&quot;: 1.0, &quot;radius&quot;: 15, &quot;stroke&quot;: true, &quot;weight&quot;: 3}\n",
       "            ).addTo(map_435aa208be24dc43ef6e997bb99b6bd2);\n",
       "        \n",
       "    \n",
       "        var popup_8ffc648a356806786afe68f007b563c3 = L.popup({\n",
       "  &quot;maxWidth&quot;: &quot;100%&quot;,\n",
       "});\n",
       "\n",
       "        \n",
       "            \n",
       "                var html_1c5077dc62274f7315d9fcaa77871696 = $(`&lt;div id=&quot;html_1c5077dc62274f7315d9fcaa77871696&quot; style=&quot;width: 100.0%; height: 100.0%;&quot;&gt;Vancouver, British Columbia: 62599 rides&lt;/div&gt;`)[0];\n",
       "                popup_8ffc648a356806786afe68f007b563c3.setContent(html_1c5077dc62274f7315d9fcaa77871696);\n",
       "            \n",
       "        \n",
       "\n",
       "        circle_marker_390b010427cdd96d44ba2aa1f8c7cfa0.bindPopup(popup_8ffc648a356806786afe68f007b563c3)\n",
       "        ;\n",
       "\n",
       "        \n",
       "    \n",
       "    \n",
       "            var circle_marker_3d10c47bc11cdc90ea7d0d8f0353129b = L.circleMarker(\n",
       "                [45.5031824, -73.5698065],\n",
       "                {&quot;bubblingMouseEvents&quot;: true, &quot;color&quot;: &quot;blue&quot;, &quot;dashArray&quot;: null, &quot;dashOffset&quot;: null, &quot;fill&quot;: true, &quot;fillColor&quot;: &quot;blue&quot;, &quot;fillOpacity&quot;: 0.6, &quot;fillRule&quot;: &quot;evenodd&quot;, &quot;lineCap&quot;: &quot;round&quot;, &quot;lineJoin&quot;: &quot;round&quot;, &quot;opacity&quot;: 1.0, &quot;radius&quot;: 15, &quot;stroke&quot;: true, &quot;weight&quot;: 3}\n",
       "            ).addTo(map_435aa208be24dc43ef6e997bb99b6bd2);\n",
       "        \n",
       "    \n",
       "        var popup_10cce3171880d28813406303813b0759 = L.popup({\n",
       "  &quot;maxWidth&quot;: &quot;100%&quot;,\n",
       "});\n",
       "\n",
       "        \n",
       "            \n",
       "                var html_3b3acf42e9d625a1814dc67b0cfe01dd = $(`&lt;div id=&quot;html_3b3acf42e9d625a1814dc67b0cfe01dd&quot; style=&quot;width: 100.0%; height: 100.0%;&quot;&gt;Montreal, Quebec: 62032 rides&lt;/div&gt;`)[0];\n",
       "                popup_10cce3171880d28813406303813b0759.setContent(html_3b3acf42e9d625a1814dc67b0cfe01dd);\n",
       "            \n",
       "        \n",
       "\n",
       "        circle_marker_3d10c47bc11cdc90ea7d0d8f0353129b.bindPopup(popup_10cce3171880d28813406303813b0759)\n",
       "        ;\n",
       "\n",
       "        \n",
       "    \n",
       "    \n",
       "            tile_layer_b775b9bff732abd861a51822004ebaed.addTo(map_435aa208be24dc43ef6e997bb99b6bd2);\n",
       "        \n",
       "&lt;/script&gt;\n",
       "&lt;/html&gt;\" style=\"position:absolute;width:100%;height:100%;left:0;top:0;border:none !important;\" allowfullscreen webkitallowfullscreen mozallowfullscreen></iframe></div></div>"
      ],
      "text/plain": [
       "<folium.folium.Map at 0x2d1125ad390>"
      ]
     },
     "execution_count": 199,
     "metadata": {},
     "output_type": "execute_result"
    }
   ],
   "source": [
    "import folium\n",
    "import pandas as pd\n",
    "from geopy.geocoders import Nominatim\n",
    "\n",
    "#group the ride counts by the city and convert to pandas\n",
    "city_rides_pd = ride_df.groupBy(\"city\", \"province\").agg(count(\"*\").alias(\"ride_count\")).toPandas()\n",
    "\n",
    "geolocator = Nominatim(user_agent=\"canada_rides_map\")\n",
    "location_cache = {}  # Cache to store already found locations\n",
    "\n",
    "#create function to get coordinates using the name of the city from geopy.geocoders\n",
    "def get_coordinates(city, province):\n",
    "   key = f\"{city}, {province}\"\n",
    "   if key in location_cache:\n",
    "        return location_cache[key]\n",
    "   try:\n",
    "        location = geolocator.geocode(f\"{city}, {province}, Canada\")\n",
    "        coords = (location.latitude, location.longitude) if location else (None, None)\n",
    "        location_cache[key] = coords  # Store result in cache\n",
    "        return coords\n",
    "   except:\n",
    "        return (None, None)\n",
    "        \n",
    "city_rides_pd[\"latitude\"], city_rides_pd[\"longitude\"] = zip( \n",
    "    *city_rides_pd.apply(lambda x:get_coordinates(x[\"city\"], x[\"province\"]), axis=1))\n",
    "\n",
    "city_rides_pd = city_rides_pd.dropna(subset=[\"latitude\", \"longitude\"])\n",
    "\n",
    "canada_map = folium.Map(location=[56.1304, -106.3468], zoom_start=4)\n",
    "\n",
    "for _, row in city_rides_pd.iterrows():\n",
    "    folium.CircleMarker(\n",
    "        location=[row[\"latitude\"], row[\"longitude\"]],\n",
    "        radius=max(3, 15), \n",
    "        color=\"blue\",\n",
    "        fill=True,\n",
    "        fill_color=\"blue\",\n",
    "        fill_opacity=0.6,\n",
    "        popup=f\"{row['city']}, {row['province']}: {row['ride_count']} rides\",\n",
    "    ).add_to(canada_map)\n",
    "\n",
    "# Save & Display Map\n",
    "canada_map.save(\"canada_rides_map.html\")  # Saves as an HTML file\n",
    "canada_map"
   ]
  },
  {
   "cell_type": "code",
   "execution_count": null,
   "id": "7e90e9d7-b18a-4ae2-afdc-ee6dd8c6025f",
   "metadata": {},
   "outputs": [],
   "source": []
  },
  {
   "cell_type": "code",
   "execution_count": null,
   "id": "563fde94-f2c3-42c2-8308-bfd95e9b3e74",
   "metadata": {},
   "outputs": [],
   "source": []
  },
  {
   "cell_type": "markdown",
   "id": "38fadfdd-67c1-419f-bfd4-0c4433f31b7e",
   "metadata": {},
   "source": [
    "# README.md"
   ]
  },
  {
   "cell_type": "raw",
   "id": "aa115da5-bc96-4457-a324-4e6244d965d0",
   "metadata": {},
   "source": [
    "README.md\n",
    "\n",
    "Batch Processing Pipeline for Ride-Sharing Analytics\n",
    "\n",
    "Project Overview\n",
    "This capstone project aims to build an end-to-end batch processing pipeline that ingests, transforms, and analyzes ride-sharing data using Apache Spark, Python, and SQL. \n",
    "The objective is to demonstrate efficient data processing and analytics capabilities on large datasets.\n",
    "\n",
    "Project Scope\n",
    "\n",
    "The batch processing data pipeline for a ride-sharing service (e.g., Uber, Bolt, or Lyft) will:\n",
    "Ingest historical ride data from CSV or JSON files.\n",
    "Clean and transform the data using Apache Spark.\n",
    "Store the transformed data (optional) in a SQL-based data warehouse.\n",
    "Run analytical queries to generate insights on ride trends.\n",
    "Visualize the results using Jupyter Notebook, image exports, HTML, or Streamlit.\n",
    "\n",
    "Tech Stack\n",
    "Python: Data processing and scripting\n",
    "SQL: Querying and analytics\n",
    "Apache Spark: Batch data processing\n",
    "PostgreSQL / Snowflake (optional): Data storage\n",
    "Pandas & Matplotlib: Data analysis and visualization\n",
    "Docker: Containerization for portability\n",
    "\n",
    "Project Setup & Execution Steps\n",
    "\n",
    "Prerequisites\n",
    "Install Python (>=3.8)\n",
    "Install Apache Spark (>=3.0)\n",
    "Install PostgreSQL or Snowflake (if using SQL storage)\n",
    "Install required Python packages:\n",
    "! pip install folium\n",
    "! pip install geopy\n",
    "\n",
    "Ensure Docker is installed (optional for containerization)\n",
    "\n",
    "\n",
    "Setup\n",
    "\n",
    "Clone the repository:\n",
    "\n",
    "git clone <repository_url>\n",
    "cd batch-processing-pipeline\n",
    "\n",
    "Configure database connection (if using SQL storage) in config.py.\n",
    "\n",
    "Download or generate the sample dataset (rides.csv).\n",
    "\n",
    "Run the pipeline:\n",
    "\n",
    "python main.py\n",
    "\n",
    "(Optional) Run with Docker:\n",
    "\n",
    "docker build -t batch-pipeline .\n",
    "docker run batch-pipeline\n",
    "\n",
    "\n",
    "Key Findings & Insights\n",
    "\n",
    "Ride Trends\n",
    "The highest number of rides occur during peak commuting hours (7-9 AM and 5-7 PM).\n",
    "Weekends show a drop in total ride counts, but an increase in longer trips.\n",
    "\n",
    "Driver Performance\n",
    "The top 10% of drivers contribute to approximately 60% of total earnings.\n",
    "Peak ride hours significantly impact driver revenue, with surge pricing playing a crucial role.\n",
    "\n",
    "Revenue Analysis\n",
    "Revenue trends show seasonal variations, with increased earnings during holidays.\n",
    "Average fare per kilometer varies across cities, with metropolitan areas showing higher rates.\n",
    "\n",
    "Optimization Opportunities\n",
    "Implementing dynamic pricing models based on demand can enhance revenue.\n",
    "Providing incentives for drivers during low-demand hours could balance ride distribution."
   ]
  },
  {
   "cell_type": "code",
   "execution_count": null,
   "id": "3f4330f5-1b0a-411a-854b-8e62f0cdf034",
   "metadata": {},
   "outputs": [],
   "source": []
  },
  {
   "cell_type": "markdown",
   "id": "e0cb0c15-0cb1-497e-861b-302a71217706",
   "metadata": {},
   "source": [
    "## Summary of the approach"
   ]
  },
  {
   "cell_type": "markdown",
   "id": "679b914f-08e7-49a4-8fc9-f214c70ed2d7",
   "metadata": {},
   "source": [
    "#### Analyzing Ride-Sharing Trends in Canada: Insights from Big Data"
   ]
  },
  {
   "cell_type": "raw",
   "id": "6582a342-cea1-47b9-97e7-f2e93564125e",
   "metadata": {},
   "source": [
    "Introduction\n",
    "\n",
    "The ride-sharing industry generates vast amounts of data daily, presenting opportunities for deeper insights into driver performance, trip patterns, and revenue trends. \n",
    "In this analysis, we leveraged Apache Spark, Pandas, Matplotlib, Seaborn, and Folium to explore ride data, optimize storage, and visualize trends across Canada.\n",
    "\n",
    "Data Processing Pipeline\n",
    "\n",
    "1. Data Cleaning & Transformation\n",
    "\n",
    "Converted timestamps (pickup_time and dropoff_time) into proper datetime formats.\n",
    "Handled missing values and replaced NULL driver IDs with \"Others.\"\n",
    "Converted negative distances to their absolute values.\n",
    "Stored the cleaned dataset in a SQL-based warehouse (PostgreSQL/Snowflake) for efficient querying.\n",
    "\n",
    "2. Batch Processing & Analysis (Using PySpark)\n",
    "\n",
    "We computed key metrics, including:\n",
    "Daily, weekly, and monthly ride counts to observe seasonal variations.\n",
    "Top-performing drivers based on total earnings.\n",
    "Revenue trends over time using aggregate fare amounts.\n",
    "\n",
    "Data Visualization & Insights\n",
    "\n",
    "1. Ride Trends Over Time\n",
    "\n",
    "We plotted a line chart to visualize ride trends over time\n",
    "Insight: The number of rides fluctuates with peaks during weekends and holidays.\n",
    "\n",
    "2. Top 10 Performing Drivers\n",
    "\n",
    "We identified the top 10 earning drivers and visualized them using a bar chart\n",
    "Insight: Earnings are concentrated among a few high-performing drivers, highlighting efficiency or high-demand locations.\n",
    "\n",
    "3. Peak Ride Hours - Heatmap\n",
    "\n",
    "We analyzed hourly ride distributions using a heatmap\n",
    "Insight: Peak hours are early mornings and evenings, aligning with commute times.\n",
    "\n",
    "4. Rides Across Canada – Map Visualization\n",
    "\n",
    "Using Folium, we mapped ride counts across different provinces\n",
    "Insight: High ride concentrations in urban provinces like Ontario and British Columbia suggest greater demand for ride-sharing services.\n",
    "\n",
    "\n",
    "\n"
   ]
  }
 ],
 "metadata": {
  "kernelspec": {
   "display_name": "Python 3 (ipykernel)",
   "language": "python",
   "name": "python3"
  },
  "language_info": {
   "codemirror_mode": {
    "name": "ipython",
    "version": 3
   },
   "file_extension": ".py",
   "mimetype": "text/x-python",
   "name": "python",
   "nbconvert_exporter": "python",
   "pygments_lexer": "ipython3",
   "version": "3.11.9"
  }
 },
 "nbformat": 4,
 "nbformat_minor": 5
}
